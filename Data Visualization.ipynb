{
 "cells": [
  {
   "cell_type": "code",
   "execution_count": 2,
   "id": "94bc0306",
   "metadata": {},
   "outputs": [],
   "source": [
    "import numpy as np\n",
    "import pandas as pd\n",
    "\n",
    "from matplotlib import pyplot as plt\n",
    "import seaborn as sns\n",
    "\n",
    "%matplotlib inline"
   ]
  },
  {
   "cell_type": "code",
   "execution_count": 3,
   "id": "aaf8ea4d",
   "metadata": {},
   "outputs": [
    {
     "name": "stdout",
     "output_type": "stream",
     "text": [
      "<class 'pandas.core.frame.DataFrame'>\n",
      "RangeIndex: 3333 entries, 0 to 3332\n",
      "Data columns (total 21 columns):\n",
      " #   Column                  Non-Null Count  Dtype  \n",
      "---  ------                  --------------  -----  \n",
      " 0   state                   3333 non-null   object \n",
      " 1   account length          3333 non-null   int64  \n",
      " 2   area code               3333 non-null   int64  \n",
      " 3   phone number            3333 non-null   object \n",
      " 4   international plan      3333 non-null   object \n",
      " 5   voice mail plan         3333 non-null   object \n",
      " 6   number vmail messages   3333 non-null   int64  \n",
      " 7   total day minutes       3333 non-null   float64\n",
      " 8   total day calls         3333 non-null   int64  \n",
      " 9   total day charge        3333 non-null   float64\n",
      " 10  total eve minutes       3333 non-null   float64\n",
      " 11  total eve calls         3333 non-null   int64  \n",
      " 12  total eve charge        3333 non-null   float64\n",
      " 13  total night minutes     3333 non-null   float64\n",
      " 14  total night calls       3333 non-null   int64  \n",
      " 15  total night charge      3333 non-null   float64\n",
      " 16  total intl minutes      3333 non-null   float64\n",
      " 17  total intl calls        3333 non-null   int64  \n",
      " 18  total intl charge       3333 non-null   float64\n",
      " 19  customer service calls  3333 non-null   int64  \n",
      " 20  churn                   3333 non-null   bool   \n",
      "dtypes: bool(1), float64(8), int64(8), object(4)\n",
      "memory usage: 524.2+ KB\n"
     ]
    }
   ],
   "source": [
    "df = pd.read_csv('Data/churn.csv')\n",
    "df.info()"
   ]
  },
  {
   "cell_type": "code",
   "execution_count": 4,
   "id": "7980f09f",
   "metadata": {},
   "outputs": [
    {
     "data": {
      "text/html": [
       "<div>\n",
       "<style scoped>\n",
       "    .dataframe tbody tr th:only-of-type {\n",
       "        vertical-align: middle;\n",
       "    }\n",
       "\n",
       "    .dataframe tbody tr th {\n",
       "        vertical-align: top;\n",
       "    }\n",
       "\n",
       "    .dataframe thead th {\n",
       "        text-align: right;\n",
       "    }\n",
       "</style>\n",
       "<table border=\"1\" class=\"dataframe\">\n",
       "  <thead>\n",
       "    <tr style=\"text-align: right;\">\n",
       "      <th></th>\n",
       "      <th>state</th>\n",
       "      <th>account length</th>\n",
       "      <th>international plan</th>\n",
       "      <th>voice mail plan</th>\n",
       "      <th>number vmail messages</th>\n",
       "      <th>total day minutes</th>\n",
       "      <th>total day calls</th>\n",
       "      <th>total day charge</th>\n",
       "      <th>total eve minutes</th>\n",
       "      <th>total eve calls</th>\n",
       "      <th>total eve charge</th>\n",
       "      <th>total night minutes</th>\n",
       "      <th>total night calls</th>\n",
       "      <th>total night charge</th>\n",
       "      <th>total intl minutes</th>\n",
       "      <th>total intl calls</th>\n",
       "      <th>total intl charge</th>\n",
       "      <th>customer service calls</th>\n",
       "      <th>churn</th>\n",
       "    </tr>\n",
       "  </thead>\n",
       "  <tbody>\n",
       "    <tr>\n",
       "      <th>0</th>\n",
       "      <td>KS</td>\n",
       "      <td>128</td>\n",
       "      <td>0</td>\n",
       "      <td>1</td>\n",
       "      <td>25</td>\n",
       "      <td>265.1</td>\n",
       "      <td>110</td>\n",
       "      <td>45.07</td>\n",
       "      <td>197.4</td>\n",
       "      <td>99</td>\n",
       "      <td>16.78</td>\n",
       "      <td>244.7</td>\n",
       "      <td>91</td>\n",
       "      <td>11.01</td>\n",
       "      <td>10.0</td>\n",
       "      <td>3</td>\n",
       "      <td>2.70</td>\n",
       "      <td>1</td>\n",
       "      <td>0</td>\n",
       "    </tr>\n",
       "    <tr>\n",
       "      <th>1</th>\n",
       "      <td>OH</td>\n",
       "      <td>107</td>\n",
       "      <td>0</td>\n",
       "      <td>1</td>\n",
       "      <td>26</td>\n",
       "      <td>161.6</td>\n",
       "      <td>123</td>\n",
       "      <td>27.47</td>\n",
       "      <td>195.5</td>\n",
       "      <td>103</td>\n",
       "      <td>16.62</td>\n",
       "      <td>254.4</td>\n",
       "      <td>103</td>\n",
       "      <td>11.45</td>\n",
       "      <td>13.7</td>\n",
       "      <td>3</td>\n",
       "      <td>3.70</td>\n",
       "      <td>1</td>\n",
       "      <td>0</td>\n",
       "    </tr>\n",
       "    <tr>\n",
       "      <th>2</th>\n",
       "      <td>NJ</td>\n",
       "      <td>137</td>\n",
       "      <td>0</td>\n",
       "      <td>0</td>\n",
       "      <td>0</td>\n",
       "      <td>243.4</td>\n",
       "      <td>114</td>\n",
       "      <td>41.38</td>\n",
       "      <td>121.2</td>\n",
       "      <td>110</td>\n",
       "      <td>10.30</td>\n",
       "      <td>162.6</td>\n",
       "      <td>104</td>\n",
       "      <td>7.32</td>\n",
       "      <td>12.2</td>\n",
       "      <td>5</td>\n",
       "      <td>3.29</td>\n",
       "      <td>0</td>\n",
       "      <td>0</td>\n",
       "    </tr>\n",
       "    <tr>\n",
       "      <th>3</th>\n",
       "      <td>OH</td>\n",
       "      <td>84</td>\n",
       "      <td>1</td>\n",
       "      <td>0</td>\n",
       "      <td>0</td>\n",
       "      <td>299.4</td>\n",
       "      <td>71</td>\n",
       "      <td>50.90</td>\n",
       "      <td>61.9</td>\n",
       "      <td>88</td>\n",
       "      <td>5.26</td>\n",
       "      <td>196.9</td>\n",
       "      <td>89</td>\n",
       "      <td>8.86</td>\n",
       "      <td>6.6</td>\n",
       "      <td>7</td>\n",
       "      <td>1.78</td>\n",
       "      <td>2</td>\n",
       "      <td>0</td>\n",
       "    </tr>\n",
       "    <tr>\n",
       "      <th>4</th>\n",
       "      <td>OK</td>\n",
       "      <td>75</td>\n",
       "      <td>1</td>\n",
       "      <td>0</td>\n",
       "      <td>0</td>\n",
       "      <td>166.7</td>\n",
       "      <td>113</td>\n",
       "      <td>28.34</td>\n",
       "      <td>148.3</td>\n",
       "      <td>122</td>\n",
       "      <td>12.61</td>\n",
       "      <td>186.9</td>\n",
       "      <td>121</td>\n",
       "      <td>8.41</td>\n",
       "      <td>10.1</td>\n",
       "      <td>3</td>\n",
       "      <td>2.73</td>\n",
       "      <td>3</td>\n",
       "      <td>0</td>\n",
       "    </tr>\n",
       "  </tbody>\n",
       "</table>\n",
       "</div>"
      ],
      "text/plain": [
       "  state  account length  international plan  voice mail plan  \\\n",
       "0    KS             128                   0                1   \n",
       "1    OH             107                   0                1   \n",
       "2    NJ             137                   0                0   \n",
       "3    OH              84                   1                0   \n",
       "4    OK              75                   1                0   \n",
       "\n",
       "   number vmail messages  total day minutes  total day calls  \\\n",
       "0                     25              265.1              110   \n",
       "1                     26              161.6              123   \n",
       "2                      0              243.4              114   \n",
       "3                      0              299.4               71   \n",
       "4                      0              166.7              113   \n",
       "\n",
       "   total day charge  total eve minutes  total eve calls  total eve charge  \\\n",
       "0             45.07              197.4               99             16.78   \n",
       "1             27.47              195.5              103             16.62   \n",
       "2             41.38              121.2              110             10.30   \n",
       "3             50.90               61.9               88              5.26   \n",
       "4             28.34              148.3              122             12.61   \n",
       "\n",
       "   total night minutes  total night calls  total night charge  \\\n",
       "0                244.7                 91               11.01   \n",
       "1                254.4                103               11.45   \n",
       "2                162.6                104                7.32   \n",
       "3                196.9                 89                8.86   \n",
       "4                186.9                121                8.41   \n",
       "\n",
       "   total intl minutes  total intl calls  total intl charge  \\\n",
       "0                10.0                 3               2.70   \n",
       "1                13.7                 3               3.70   \n",
       "2                12.2                 5               3.29   \n",
       "3                 6.6                 7               1.78   \n",
       "4                10.1                 3               2.73   \n",
       "\n",
       "   customer service calls  churn  \n",
       "0                       1      0  \n",
       "1                       1      0  \n",
       "2                       0      0  \n",
       "3                       2      0  \n",
       "4                       3      0  "
      ]
     },
     "execution_count": 4,
     "metadata": {},
     "output_type": "execute_result"
    }
   ],
   "source": [
    "clean = df.drop(['area code', 'phone number'], axis=1)\n",
    "clean['international plan'].replace(['no','yes'], [0,1], inplace = True)\n",
    "clean['voice mail plan'].replace(['no','yes'], [0,1], inplace = True)\n",
    "clean['churn'].replace([False, True], [0,1], inplace = True)\n",
    "clean.head()"
   ]
  },
  {
   "cell_type": "markdown",
   "id": "14b0915a",
   "metadata": {},
   "source": [
    "# Looking at entire dataset Churn"
   ]
  },
  {
   "cell_type": "code",
   "execution_count": 5,
   "id": "790d4a9c",
   "metadata": {},
   "outputs": [
    {
     "data": {
      "text/plain": [
       "0    0.855086\n",
       "1    0.144914\n",
       "Name: churn, dtype: float64"
      ]
     },
     "execution_count": 5,
     "metadata": {},
     "output_type": "execute_result"
    }
   ],
   "source": [
    "clean['churn'].value_counts(normalize=True)"
   ]
  },
  {
   "cell_type": "code",
   "execution_count": null,
   "id": "14c60afa",
   "metadata": {},
   "outputs": [],
   "source": []
  },
  {
   "cell_type": "markdown",
   "id": "592b1c4a",
   "metadata": {},
   "source": [
    "# Based On the final model\n",
    "\n",
    "Coefficients to visualize:\n",
    "- `customer service calls`\n",
    "- `total day minutes`\n",
    "- `international plans`\n",
    "- `number vmail messages`\n",
    "- `total eve charge`\n",
    "- `total int charge`\n",
    "\n",
    "# identifying key attributes of those customers who did churn"
   ]
  },
  {
   "cell_type": "code",
   "execution_count": 6,
   "id": "b37d9731",
   "metadata": {},
   "outputs": [
    {
     "data": {
      "text/html": [
       "<div>\n",
       "<style scoped>\n",
       "    .dataframe tbody tr th:only-of-type {\n",
       "        vertical-align: middle;\n",
       "    }\n",
       "\n",
       "    .dataframe tbody tr th {\n",
       "        vertical-align: top;\n",
       "    }\n",
       "\n",
       "    .dataframe thead th {\n",
       "        text-align: right;\n",
       "    }\n",
       "</style>\n",
       "<table border=\"1\" class=\"dataframe\">\n",
       "  <thead>\n",
       "    <tr style=\"text-align: right;\">\n",
       "      <th></th>\n",
       "      <th>account length</th>\n",
       "      <th>international plan</th>\n",
       "      <th>voice mail plan</th>\n",
       "      <th>number vmail messages</th>\n",
       "      <th>total day minutes</th>\n",
       "      <th>total day calls</th>\n",
       "      <th>total day charge</th>\n",
       "      <th>total eve minutes</th>\n",
       "      <th>total eve calls</th>\n",
       "      <th>total eve charge</th>\n",
       "      <th>total night minutes</th>\n",
       "      <th>total night calls</th>\n",
       "      <th>total night charge</th>\n",
       "      <th>total intl minutes</th>\n",
       "      <th>total intl calls</th>\n",
       "      <th>total intl charge</th>\n",
       "      <th>customer service calls</th>\n",
       "      <th>churn</th>\n",
       "    </tr>\n",
       "  </thead>\n",
       "  <tbody>\n",
       "    <tr>\n",
       "      <th>count</th>\n",
       "      <td>483.000000</td>\n",
       "      <td>483.000000</td>\n",
       "      <td>483.000000</td>\n",
       "      <td>483.000000</td>\n",
       "      <td>483.000000</td>\n",
       "      <td>483.000000</td>\n",
       "      <td>483.000000</td>\n",
       "      <td>483.000000</td>\n",
       "      <td>483.000000</td>\n",
       "      <td>483.000000</td>\n",
       "      <td>483.000000</td>\n",
       "      <td>483.000000</td>\n",
       "      <td>483.000000</td>\n",
       "      <td>483.00000</td>\n",
       "      <td>483.000000</td>\n",
       "      <td>483.000000</td>\n",
       "      <td>483.000000</td>\n",
       "      <td>483.0</td>\n",
       "    </tr>\n",
       "    <tr>\n",
       "      <th>mean</th>\n",
       "      <td>102.664596</td>\n",
       "      <td>0.283644</td>\n",
       "      <td>0.165631</td>\n",
       "      <td>5.115942</td>\n",
       "      <td>206.914079</td>\n",
       "      <td>101.335404</td>\n",
       "      <td>35.175921</td>\n",
       "      <td>212.410145</td>\n",
       "      <td>100.561077</td>\n",
       "      <td>18.054969</td>\n",
       "      <td>205.231677</td>\n",
       "      <td>100.399586</td>\n",
       "      <td>9.235528</td>\n",
       "      <td>10.70000</td>\n",
       "      <td>4.163561</td>\n",
       "      <td>2.889545</td>\n",
       "      <td>2.229814</td>\n",
       "      <td>1.0</td>\n",
       "    </tr>\n",
       "    <tr>\n",
       "      <th>std</th>\n",
       "      <td>39.467820</td>\n",
       "      <td>0.451233</td>\n",
       "      <td>0.372135</td>\n",
       "      <td>11.860138</td>\n",
       "      <td>68.997792</td>\n",
       "      <td>21.582307</td>\n",
       "      <td>11.729710</td>\n",
       "      <td>51.728910</td>\n",
       "      <td>19.724711</td>\n",
       "      <td>4.396762</td>\n",
       "      <td>47.132825</td>\n",
       "      <td>19.950659</td>\n",
       "      <td>2.121081</td>\n",
       "      <td>2.79319</td>\n",
       "      <td>2.551575</td>\n",
       "      <td>0.754152</td>\n",
       "      <td>1.853275</td>\n",
       "      <td>0.0</td>\n",
       "    </tr>\n",
       "    <tr>\n",
       "      <th>min</th>\n",
       "      <td>1.000000</td>\n",
       "      <td>0.000000</td>\n",
       "      <td>0.000000</td>\n",
       "      <td>0.000000</td>\n",
       "      <td>0.000000</td>\n",
       "      <td>0.000000</td>\n",
       "      <td>0.000000</td>\n",
       "      <td>70.900000</td>\n",
       "      <td>48.000000</td>\n",
       "      <td>6.030000</td>\n",
       "      <td>47.400000</td>\n",
       "      <td>49.000000</td>\n",
       "      <td>2.130000</td>\n",
       "      <td>2.00000</td>\n",
       "      <td>1.000000</td>\n",
       "      <td>0.540000</td>\n",
       "      <td>0.000000</td>\n",
       "      <td>1.0</td>\n",
       "    </tr>\n",
       "    <tr>\n",
       "      <th>25%</th>\n",
       "      <td>76.000000</td>\n",
       "      <td>0.000000</td>\n",
       "      <td>0.000000</td>\n",
       "      <td>0.000000</td>\n",
       "      <td>153.250000</td>\n",
       "      <td>87.500000</td>\n",
       "      <td>26.055000</td>\n",
       "      <td>177.100000</td>\n",
       "      <td>87.000000</td>\n",
       "      <td>15.055000</td>\n",
       "      <td>171.250000</td>\n",
       "      <td>85.000000</td>\n",
       "      <td>7.705000</td>\n",
       "      <td>8.80000</td>\n",
       "      <td>2.000000</td>\n",
       "      <td>2.380000</td>\n",
       "      <td>1.000000</td>\n",
       "      <td>1.0</td>\n",
       "    </tr>\n",
       "    <tr>\n",
       "      <th>50%</th>\n",
       "      <td>103.000000</td>\n",
       "      <td>0.000000</td>\n",
       "      <td>0.000000</td>\n",
       "      <td>0.000000</td>\n",
       "      <td>217.600000</td>\n",
       "      <td>103.000000</td>\n",
       "      <td>36.990000</td>\n",
       "      <td>211.300000</td>\n",
       "      <td>101.000000</td>\n",
       "      <td>17.960000</td>\n",
       "      <td>204.800000</td>\n",
       "      <td>100.000000</td>\n",
       "      <td>9.220000</td>\n",
       "      <td>10.60000</td>\n",
       "      <td>4.000000</td>\n",
       "      <td>2.860000</td>\n",
       "      <td>2.000000</td>\n",
       "      <td>1.0</td>\n",
       "    </tr>\n",
       "    <tr>\n",
       "      <th>75%</th>\n",
       "      <td>127.000000</td>\n",
       "      <td>1.000000</td>\n",
       "      <td>0.000000</td>\n",
       "      <td>0.000000</td>\n",
       "      <td>265.950000</td>\n",
       "      <td>116.500000</td>\n",
       "      <td>45.210000</td>\n",
       "      <td>249.450000</td>\n",
       "      <td>114.000000</td>\n",
       "      <td>21.205000</td>\n",
       "      <td>239.850000</td>\n",
       "      <td>115.000000</td>\n",
       "      <td>10.795000</td>\n",
       "      <td>12.80000</td>\n",
       "      <td>5.000000</td>\n",
       "      <td>3.460000</td>\n",
       "      <td>4.000000</td>\n",
       "      <td>1.0</td>\n",
       "    </tr>\n",
       "    <tr>\n",
       "      <th>max</th>\n",
       "      <td>225.000000</td>\n",
       "      <td>1.000000</td>\n",
       "      <td>1.000000</td>\n",
       "      <td>48.000000</td>\n",
       "      <td>350.800000</td>\n",
       "      <td>165.000000</td>\n",
       "      <td>59.640000</td>\n",
       "      <td>363.700000</td>\n",
       "      <td>168.000000</td>\n",
       "      <td>30.910000</td>\n",
       "      <td>354.900000</td>\n",
       "      <td>158.000000</td>\n",
       "      <td>15.970000</td>\n",
       "      <td>20.00000</td>\n",
       "      <td>20.000000</td>\n",
       "      <td>5.400000</td>\n",
       "      <td>9.000000</td>\n",
       "      <td>1.0</td>\n",
       "    </tr>\n",
       "  </tbody>\n",
       "</table>\n",
       "</div>"
      ],
      "text/plain": [
       "       account length  international plan  voice mail plan  \\\n",
       "count      483.000000          483.000000       483.000000   \n",
       "mean       102.664596            0.283644         0.165631   \n",
       "std         39.467820            0.451233         0.372135   \n",
       "min          1.000000            0.000000         0.000000   \n",
       "25%         76.000000            0.000000         0.000000   \n",
       "50%        103.000000            0.000000         0.000000   \n",
       "75%        127.000000            1.000000         0.000000   \n",
       "max        225.000000            1.000000         1.000000   \n",
       "\n",
       "       number vmail messages  total day minutes  total day calls  \\\n",
       "count             483.000000         483.000000       483.000000   \n",
       "mean                5.115942         206.914079       101.335404   \n",
       "std                11.860138          68.997792        21.582307   \n",
       "min                 0.000000           0.000000         0.000000   \n",
       "25%                 0.000000         153.250000        87.500000   \n",
       "50%                 0.000000         217.600000       103.000000   \n",
       "75%                 0.000000         265.950000       116.500000   \n",
       "max                48.000000         350.800000       165.000000   \n",
       "\n",
       "       total day charge  total eve minutes  total eve calls  total eve charge  \\\n",
       "count        483.000000         483.000000       483.000000        483.000000   \n",
       "mean          35.175921         212.410145       100.561077         18.054969   \n",
       "std           11.729710          51.728910        19.724711          4.396762   \n",
       "min            0.000000          70.900000        48.000000          6.030000   \n",
       "25%           26.055000         177.100000        87.000000         15.055000   \n",
       "50%           36.990000         211.300000       101.000000         17.960000   \n",
       "75%           45.210000         249.450000       114.000000         21.205000   \n",
       "max           59.640000         363.700000       168.000000         30.910000   \n",
       "\n",
       "       total night minutes  total night calls  total night charge  \\\n",
       "count           483.000000         483.000000          483.000000   \n",
       "mean            205.231677         100.399586            9.235528   \n",
       "std              47.132825          19.950659            2.121081   \n",
       "min              47.400000          49.000000            2.130000   \n",
       "25%             171.250000          85.000000            7.705000   \n",
       "50%             204.800000         100.000000            9.220000   \n",
       "75%             239.850000         115.000000           10.795000   \n",
       "max             354.900000         158.000000           15.970000   \n",
       "\n",
       "       total intl minutes  total intl calls  total intl charge  \\\n",
       "count           483.00000        483.000000         483.000000   \n",
       "mean             10.70000          4.163561           2.889545   \n",
       "std               2.79319          2.551575           0.754152   \n",
       "min               2.00000          1.000000           0.540000   \n",
       "25%               8.80000          2.000000           2.380000   \n",
       "50%              10.60000          4.000000           2.860000   \n",
       "75%              12.80000          5.000000           3.460000   \n",
       "max              20.00000         20.000000           5.400000   \n",
       "\n",
       "       customer service calls  churn  \n",
       "count              483.000000  483.0  \n",
       "mean                 2.229814    1.0  \n",
       "std                  1.853275    0.0  \n",
       "min                  0.000000    1.0  \n",
       "25%                  1.000000    1.0  \n",
       "50%                  2.000000    1.0  \n",
       "75%                  4.000000    1.0  \n",
       "max                  9.000000    1.0  "
      ]
     },
     "execution_count": 6,
     "metadata": {},
     "output_type": "execute_result"
    }
   ],
   "source": [
    "churn = clean[(clean['churn'] == 1)]\n",
    "nchurn = clean[(clean['churn'] == 0)]\n",
    "\n",
    "churn.describe()"
   ]
  },
  {
   "cell_type": "markdown",
   "id": "523a8e73",
   "metadata": {},
   "source": [
    "# Customer Service Calls"
   ]
  },
  {
   "cell_type": "code",
   "execution_count": 7,
   "id": "1132ebcd",
   "metadata": {},
   "outputs": [
    {
     "data": {
      "text/plain": [
       "1    122\n",
       "0     92\n",
       "2     87\n",
       "4     76\n",
       "3     44\n",
       "5     40\n",
       "6     14\n",
       "7      5\n",
       "9      2\n",
       "8      1\n",
       "Name: customer service calls, dtype: int64"
      ]
     },
     "execution_count": 7,
     "metadata": {},
     "output_type": "execute_result"
    }
   ],
   "source": [
    "churn['customer service calls'].value_counts()"
   ]
  },
  {
   "cell_type": "code",
   "execution_count": 8,
   "id": "59c38a24",
   "metadata": {},
   "outputs": [
    {
     "data": {
      "image/png": "[encoded data removed]",
      "text/plain": [
       "<Figure size 432x288 with 1 Axes>"
      ]
     },
     "metadata": {
      "needs_background": "light"
     },
     "output_type": "display_data"
    }
   ],
   "source": [
    "churn['customer service calls'].plot(kind='hist');"
   ]
  },
  {
   "cell_type": "code",
   "execution_count": 9,
   "id": "36998bc5",
   "metadata": {},
   "outputs": [
    {
     "data": {
      "text/plain": [
       "2.229813664596273"
      ]
     },
     "execution_count": 9,
     "metadata": {},
     "output_type": "execute_result"
    }
   ],
   "source": [
    "churn['customer service calls'].mean()"
   ]
  },
  {
   "cell_type": "code",
   "execution_count": 10,
   "id": "3c9d2a04",
   "metadata": {},
   "outputs": [
    {
     "data": {
      "image/png": "[encoded data removed]",
      "text/plain": [
       "<Figure size 432x288 with 1 Axes>"
      ]
     },
     "metadata": {
      "needs_background": "light"
     },
     "output_type": "display_data"
    }
   ],
   "source": [
    "nchurn['customer service calls'].plot(kind='hist');"
   ]
  },
  {
   "cell_type": "markdown",
   "id": "05f1d764",
   "metadata": {},
   "source": [
    "# International Plan"
   ]
  },
  {
   "cell_type": "code",
   "execution_count": 11,
   "id": "e6c9b210",
   "metadata": {},
   "outputs": [
    {
     "data": {
      "image/png": "[encoded data removed]",
      "text/plain": [
       "<Figure size 432x288 with 1 Axes>"
      ]
     },
     "metadata": {
      "needs_background": "light"
     },
     "output_type": "display_data"
    }
   ],
   "source": [
    "churn['international plan'].plot(kind='hist');"
   ]
  },
  {
   "cell_type": "code",
   "execution_count": 12,
   "id": "5e7b6562",
   "metadata": {},
   "outputs": [
    {
     "data": {
      "image/png": "[encoded data removed]",
      "text/plain": [
       "<Figure size 432x288 with 1 Axes>"
      ]
     },
     "metadata": {
      "needs_background": "light"
     },
     "output_type": "display_data"
    }
   ],
   "source": [
    "nchurn['international plan'].plot(kind='hist');"
   ]
  },
  {
   "cell_type": "code",
   "execution_count": 13,
   "id": "bc083566",
   "metadata": {},
   "outputs": [
    {
     "data": {
      "text/plain": [
       "0.2836438923395445"
      ]
     },
     "execution_count": 13,
     "metadata": {},
     "output_type": "execute_result"
    }
   ],
   "source": [
    "churn['international plan'].mean()"
   ]
  },
  {
   "cell_type": "markdown",
   "id": "b1ed2438",
   "metadata": {},
   "source": [
    "# Total Day Minutes"
   ]
  },
  {
   "cell_type": "code",
   "execution_count": 14,
   "id": "b4a7c664",
   "metadata": {},
   "outputs": [
    {
     "name": "stderr",
     "output_type": "stream",
     "text": [
      "/opt/anaconda3/envs/learn-env/lib/python3.8/site-packages/seaborn/distributions.py:2551: FutureWarning: `distplot` is a deprecated function and will be removed in a future version. Please adapt your code to use either `displot` (a figure-level function with similar flexibility) or `histplot` (an axes-level function for histograms).\n",
      "  warnings.warn(msg, FutureWarning)\n"
     ]
    },
    {
     "data": {
      "text/plain": [
       "[Text(0.5, 0, 'Total Day Minues'),\n",
       " Text(0, 0.5, 'Probability of Customer Churn')]"
      ]
     },
     "execution_count": 14,
     "metadata": {},
     "output_type": "execute_result"
    },
    {
     "data": {
      "image/png": "[encoded data removed]",
      "text/plain": [
       "<Figure size 864x504 with 1 Axes>"
      ]
     },
     "metadata": {
      "needs_background": "light"
     },
     "output_type": "display_data"
    }
   ],
   "source": [
    "fig, ax = plt.subplots(figsize=(12, 7))\n",
    "\n",
    "sns.distplot(churn['total day minutes'], bins=50);\n",
    "\n",
    "ax.set(xlabel='Total Day Minues', ylabel='Probability of Customer Churn')"
   ]
  },
  {
   "cell_type": "code",
   "execution_count": 15,
   "id": "df4484bc",
   "metadata": {},
   "outputs": [
    {
     "data": {
      "text/plain": [
       "count    483.000000\n",
       "mean     206.914079\n",
       "std       68.997792\n",
       "min        0.000000\n",
       "25%      153.250000\n",
       "50%      217.600000\n",
       "75%      265.950000\n",
       "max      350.800000\n",
       "Name: total day minutes, dtype: float64"
      ]
     },
     "execution_count": 15,
     "metadata": {},
     "output_type": "execute_result"
    }
   ],
   "source": [
    "churn['total day minutes'].describe()"
   ]
  },
  {
   "cell_type": "code",
   "execution_count": 19,
   "id": "75df820e",
   "metadata": {},
   "outputs": [
    {
     "data": {
      "text/plain": [
       "count    3333.000000\n",
       "mean      179.775098\n",
       "std        54.467389\n",
       "min         0.000000\n",
       "25%       143.700000\n",
       "50%       179.400000\n",
       "75%       216.400000\n",
       "max       350.800000\n",
       "Name: total day minutes, dtype: float64"
      ]
     },
     "execution_count": 19,
     "metadata": {},
     "output_type": "execute_result"
    }
   ],
   "source": [
    "clean['total day minutes'].describe()"
   ]
  },
  {
   "cell_type": "code",
   "execution_count": 20,
   "id": "c0e4f42c",
   "metadata": {},
   "outputs": [
    {
     "name": "stderr",
     "output_type": "stream",
     "text": [
      "/opt/anaconda3/envs/learn-env/lib/python3.8/site-packages/seaborn/distributions.py:2551: FutureWarning: `distplot` is a deprecated function and will be removed in a future version. Please adapt your code to use either `displot` (a figure-level function with similar flexibility) or `histplot` (an axes-level function for histograms).\n",
      "  warnings.warn(msg, FutureWarning)\n"
     ]
    },
    {
     "data": {
      "text/plain": [
       "[Text(0.5, 0, 'Total Day Minues'), Text(0, 0.5, 'Denisity')]"
      ]
     },
     "execution_count": 20,
     "metadata": {},
     "output_type": "execute_result"
    },
    {
     "data": {
      "image/png": "[encoded data removed]",
      "text/plain": [
       "<Figure size 864x504 with 1 Axes>"
      ]
     },
     "metadata": {
      "needs_background": "light"
     },
     "output_type": "display_data"
    }
   ],
   "source": [
    "fig, ax = plt.subplots(figsize=(12, 7))\n",
    "\n",
    "sns.distplot(clean['total day minutes'], bins=50);\n",
    "\n",
    "ax.set(xlabel='Total Day Minues', ylabel='Denisity')"
   ]
  },
  {
   "cell_type": "code",
   "execution_count": null,
   "id": "b16bab9e",
   "metadata": {},
   "outputs": [],
   "source": []
  },
  {
   "cell_type": "code",
   "execution_count": 25,
   "id": "31ca7fd0",
   "metadata": {},
   "outputs": [
    {
     "data": {
      "text/plain": [
       "<AxesSubplot:xlabel='total day minutes', ylabel='Count'>"
      ]
     },
     "execution_count": 25,
     "metadata": {},
     "output_type": "execute_result"
    },
    {
     "data": {
      "image/png": "[encoded data removed]",
      "text/plain": [
       "<Figure size 864x504 with 1 Axes>"
      ]
     },
     "metadata": {
      "needs_background": "light"
     },
     "output_type": "display_data"
    }
   ],
   "source": [
    "fig, ax = plt.subplots(figsize=(12, 7))\n",
    "\n",
    "sns.histplot(data = churn\n",
    "            ,x = 'total day minutes'\n",
    "            ,kde = True\n",
    "            )"
   ]
  },
  {
   "cell_type": "markdown",
   "id": "38b3fc50",
   "metadata": {},
   "source": [
    "# NOT USING THIS ANYMORE Total Day Charge"
   ]
  },
  {
   "cell_type": "code",
   "execution_count": 16,
   "id": "1e66e294",
   "metadata": {},
   "outputs": [
    {
     "name": "stderr",
     "output_type": "stream",
     "text": [
      "/opt/anaconda3/envs/learn-env/lib/python3.8/site-packages/seaborn/distributions.py:2551: FutureWarning: `distplot` is a deprecated function and will be removed in a future version. Please adapt your code to use either `displot` (a figure-level function with similar flexibility) or `histplot` (an axes-level function for histograms).\n",
      "  warnings.warn(msg, FutureWarning)\n"
     ]
    },
    {
     "data": {
      "text/plain": [
       "[Text(0.5, 0, 'Total Day Charge'),\n",
       " Text(0, 0.5, 'Probability of Customer Churn')]"
      ]
     },
     "execution_count": 16,
     "metadata": {},
     "output_type": "execute_result"
    },
    {
     "data": {
      "image/png": "[encoded data removed]",
      "text/plain": [
       "<Figure size 864x504 with 1 Axes>"
      ]
     },
     "metadata": {
      "needs_background": "light"
     },
     "output_type": "display_data"
    }
   ],
   "source": [
    "fig, ax = plt.subplots(figsize=(12, 7))\n",
    "\n",
    "sns.distplot(churn['total day charge'], bins=50);\n",
    "\n",
    "ax.set(xlabel='Total Day Charge', ylabel='Probability of Customer Churn')"
   ]
  },
  {
   "cell_type": "markdown",
   "id": "f6e68d0d",
   "metadata": {},
   "source": [
    "# Total Evening Charge"
   ]
  },
  {
   "cell_type": "code",
   "execution_count": 18,
   "id": "e8e4c22d",
   "metadata": {},
   "outputs": [
    {
     "name": "stderr",
     "output_type": "stream",
     "text": [
      "/opt/anaconda3/envs/learn-env/lib/python3.8/site-packages/seaborn/distributions.py:2551: FutureWarning: `distplot` is a deprecated function and will be removed in a future version. Please adapt your code to use either `displot` (a figure-level function with similar flexibility) or `histplot` (an axes-level function for histograms).\n",
      "  warnings.warn(msg, FutureWarning)\n"
     ]
    },
    {
     "data": {
      "text/plain": [
       "[Text(0.5, 0, 'Total Evening Charge'),\n",
       " Text(0, 0.5, 'Probability of Customer Churn')]"
      ]
     },
     "execution_count": 18,
     "metadata": {},
     "output_type": "execute_result"
    },
    {
     "data": {
      "image/png": "[encoded data removed]",
      "text/plain": [
       "<Figure size 864x504 with 1 Axes>"
      ]
     },
     "metadata": {
      "needs_background": "light"
     },
     "output_type": "display_data"
    }
   ],
   "source": [
    "fig, ax = plt.subplots(figsize=(12, 7))\n",
    "\n",
    "sns.distplot(churn['total eve charge'], bins=50);\n",
    "\n",
    "ax.set(xlabel='Total Evening Charge', ylabel='Probability of Customer Churn')"
   ]
  },
  {
   "cell_type": "code",
   "execution_count": 26,
   "id": "f7ea190d",
   "metadata": {},
   "outputs": [
    {
     "data": {
      "text/plain": [
       "<AxesSubplot:xlabel='total eve charge', ylabel='Count'>"
      ]
     },
     "execution_count": 26,
     "metadata": {},
     "output_type": "execute_result"
    },
    {
     "data": {
      "image/png": "[encoded data removed]",
      "text/plain": [
       "<Figure size 864x504 with 1 Axes>"
      ]
     },
     "metadata": {
      "needs_background": "light"
     },
     "output_type": "display_data"
    }
   ],
   "source": [
    "fig, ax = plt.subplots(figsize=(12, 7))\n",
    "\n",
    "sns.histplot(data = churn\n",
    "            ,x = 'total eve charge'\n",
    "            ,kde = True\n",
    "            )"
   ]
  },
  {
   "cell_type": "code",
   "execution_count": 27,
   "id": "57985760",
   "metadata": {},
   "outputs": [
    {
     "data": {
      "text/plain": [
       "count    483.000000\n",
       "mean      18.054969\n",
       "std        4.396762\n",
       "min        6.030000\n",
       "25%       15.055000\n",
       "50%       17.960000\n",
       "75%       21.205000\n",
       "max       30.910000\n",
       "Name: total eve charge, dtype: float64"
      ]
     },
     "execution_count": 27,
     "metadata": {},
     "output_type": "execute_result"
    }
   ],
   "source": [
    "churn['total eve charge'].describe()"
   ]
  },
  {
   "cell_type": "code",
   "execution_count": 29,
   "id": "69f837fb",
   "metadata": {},
   "outputs": [
    {
     "data": {
      "text/plain": [
       "<AxesSubplot:xlabel='number vmail messages', ylabel='Count'>"
      ]
     },
     "execution_count": 29,
     "metadata": {},
     "output_type": "execute_result"
    },
    {
     "data": {
      "image/png": "[encoded data removed]",
      "text/plain": [
       "<Figure size 864x504 with 1 Axes>"
      ]
     },
     "metadata": {
      "needs_background": "light"
     },
     "output_type": "display_data"
    }
   ],
   "source": [
    "fig, ax = plt.subplots(figsize=(12, 7))\n",
    "\n",
    "sns.histplot(data = churn\n",
    "            ,x = 'number vmail messages'\n",
    "            ,kde = True\n",
    "            )"
   ]
  },
  {
   "cell_type": "code",
   "execution_count": 30,
   "id": "319714e4",
   "metadata": {},
   "outputs": [
    {
     "data": {
      "text/plain": [
       "count    483.000000\n",
       "mean       5.115942\n",
       "std       11.860138\n",
       "min        0.000000\n",
       "25%        0.000000\n",
       "50%        0.000000\n",
       "75%        0.000000\n",
       "max       48.000000\n",
       "Name: number vmail messages, dtype: float64"
      ]
     },
     "execution_count": 30,
     "metadata": {},
     "output_type": "execute_result"
    }
   ],
   "source": [
    "churn['number vmail messages'].describe()"
   ]
  },
  {
   "cell_type": "code",
   "execution_count": null,
   "id": "21dd7033",
   "metadata": {},
   "outputs": [],
   "source": []
  }
 ],
 "metadata": {
  "kernelspec": {
   "display_name": "Python (learn-env)",
   "language": "python",
   "name": "learn-env"
  },
  "language_info": {
   "codemirror_mode": {
    "name": "ipython",
    "version": 3
   },
   "file_extension": ".py",
   "mimetype": "text/x-python",
   "name": "python",
   "nbconvert_exporter": "python",
   "pygments_lexer": "ipython3",
   "version": "3.8.5"
  }
 },
 "nbformat": 4,
 "nbformat_minor": 5
}
