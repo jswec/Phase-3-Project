{
 "cells": [
  {
   "cell_type": "markdown",
   "metadata": {},
   "source": [
    "# Data Analysis:\n",
    "## Predicting Customer Churn in SyriaTel's US Clients\n",
    "\n",
    "This project is an analysis of customer churn based on anonymized data provided by Flatiron School's curated list of Phase 3 project datasets via [Kaggle.com](https://www.kaggle.com/datasets/becksddf/churn-in-telecoms-dataset).\n",
    "\n",
    "The premise is to build a classifier to predict whether a customer will discontinue their prepaid mobile phone plan with telecom provider SyriaTel.\n",
    "\n",
    "# Business & Data Understanding\n",
    "\n",
    "Churn in the Telecommunications industry is at an all time low however SyriaTel is currently looking at a 14.5% attrition rate. For reference, our competitors reported an average of 2.31% 2022 4th quarter prepaid churn rate.\n",
    "\n",
    "This notebook aims to identify attributes that will most likely predict customer churn by analyzing data reported by SyriaTel."
   ]
  },
  {
   "cell_type": "code",
   "execution_count": 6,
   "metadata": {
    "nbgrader": {
     "grade": false,
     "grade_id": "0d38786c25982cb53f9a4a1b6e96c717",
     "locked": false,
     "schema_version": 3,
     "solution": true,
     "task": false
    }
   },
   "outputs": [],
   "source": [
    "# Import necessary functions\n",
    "\n",
    "import numpy as np\n",
    "import pandas as pd\n",
    "\n",
    "from matplotlib import pyplot as plt\n",
    "import seaborn as sns\n",
    "\n",
    "from sklearn.utils import resample\n",
    "from sklearn.model_selection import train_test_split\n",
    "from sklearn.model_selection import GridSearchCV\n",
    "from sklearn.preprocessing import StandardScaler\n",
    "from sklearn.linear_model import LogisticRegression\n",
    "from sklearn.tree import DecisionTreeClassifier, plot_tree\n",
    "\n",
    "from sklearn.metrics import confusion_matrix, plot_confusion_matrix,\\\n",
    "    precision_score, recall_score, accuracy_score, f1_score, log_loss,\\\n",
    "    roc_curve, roc_auc_score, classification_report\n",
    "\n",
    "from numpy import mean\n",
    "from sklearn.model_selection import cross_val_score\n",
    "from sklearn.model_selection import RepeatedStratifiedKFold\n",
    "from sklearn.tree import DecisionTreeClassifier\n",
    "from imblearn.pipeline import Pipeline\n",
    "from imblearn.over_sampling import SMOTE\n",
    "from imblearn.under_sampling import RandomUnderSampler\n",
    "\n",
    "sns.set(font_scale = 1)"
   ]
  },
  {
   "cell_type": "markdown",
   "metadata": {},
   "source": [
    "# DATA CLEANING"
   ]
  },
  {
   "cell_type": "code",
   "execution_count": 7,
   "metadata": {},
   "outputs": [],
   "source": [
    "# Import main dataset as dataframe\n",
    "\n",
    "df = pd.read_csv('Data/churn.csv')"
   ]
  },
  {
   "cell_type": "markdown",
   "metadata": {},
   "source": [
    "There are only 3 **area code** values across numerous states - something is off with this column so we'll drop it along with the **phone number** column. We will also convert non-numeric values to integers and make sure that there are no null values."
   ]
  },
  {
   "cell_type": "code",
   "execution_count": 8,
   "metadata": {},
   "outputs": [
    {
     "data": {
      "text/html": [
       "<div>\n",
       "<style scoped>\n",
       "    .dataframe tbody tr th:only-of-type {\n",
       "        vertical-align: middle;\n",
       "    }\n",
       "\n",
       "    .dataframe tbody tr th {\n",
       "        vertical-align: top;\n",
       "    }\n",
       "\n",
       "    .dataframe thead th {\n",
       "        text-align: right;\n",
       "    }\n",
       "</style>\n",
       "<table border=\"1\" class=\"dataframe\">\n",
       "  <thead>\n",
       "    <tr style=\"text-align: right;\">\n",
       "      <th></th>\n",
       "      <th>state</th>\n",
       "      <th>account length</th>\n",
       "      <th>international plan</th>\n",
       "      <th>voice mail plan</th>\n",
       "      <th>number vmail messages</th>\n",
       "      <th>total day minutes</th>\n",
       "      <th>total day calls</th>\n",
       "      <th>total day charge</th>\n",
       "      <th>total eve minutes</th>\n",
       "      <th>total eve calls</th>\n",
       "      <th>total eve charge</th>\n",
       "      <th>total night minutes</th>\n",
       "      <th>total night calls</th>\n",
       "      <th>total night charge</th>\n",
       "      <th>total intl minutes</th>\n",
       "      <th>total intl calls</th>\n",
       "      <th>total intl charge</th>\n",
       "      <th>customer service calls</th>\n",
       "      <th>churn</th>\n",
       "    </tr>\n",
       "  </thead>\n",
       "  <tbody>\n",
       "    <tr>\n",
       "      <th>0</th>\n",
       "      <td>KS</td>\n",
       "      <td>128</td>\n",
       "      <td>0</td>\n",
       "      <td>1</td>\n",
       "      <td>25</td>\n",
       "      <td>265.1</td>\n",
       "      <td>110</td>\n",
       "      <td>45.07</td>\n",
       "      <td>197.4</td>\n",
       "      <td>99</td>\n",
       "      <td>16.78</td>\n",
       "      <td>244.7</td>\n",
       "      <td>91</td>\n",
       "      <td>11.01</td>\n",
       "      <td>10.0</td>\n",
       "      <td>3</td>\n",
       "      <td>2.70</td>\n",
       "      <td>1</td>\n",
       "      <td>0</td>\n",
       "    </tr>\n",
       "    <tr>\n",
       "      <th>1</th>\n",
       "      <td>OH</td>\n",
       "      <td>107</td>\n",
       "      <td>0</td>\n",
       "      <td>1</td>\n",
       "      <td>26</td>\n",
       "      <td>161.6</td>\n",
       "      <td>123</td>\n",
       "      <td>27.47</td>\n",
       "      <td>195.5</td>\n",
       "      <td>103</td>\n",
       "      <td>16.62</td>\n",
       "      <td>254.4</td>\n",
       "      <td>103</td>\n",
       "      <td>11.45</td>\n",
       "      <td>13.7</td>\n",
       "      <td>3</td>\n",
       "      <td>3.70</td>\n",
       "      <td>1</td>\n",
       "      <td>0</td>\n",
       "    </tr>\n",
       "    <tr>\n",
       "      <th>2</th>\n",
       "      <td>NJ</td>\n",
       "      <td>137</td>\n",
       "      <td>0</td>\n",
       "      <td>0</td>\n",
       "      <td>0</td>\n",
       "      <td>243.4</td>\n",
       "      <td>114</td>\n",
       "      <td>41.38</td>\n",
       "      <td>121.2</td>\n",
       "      <td>110</td>\n",
       "      <td>10.30</td>\n",
       "      <td>162.6</td>\n",
       "      <td>104</td>\n",
       "      <td>7.32</td>\n",
       "      <td>12.2</td>\n",
       "      <td>5</td>\n",
       "      <td>3.29</td>\n",
       "      <td>0</td>\n",
       "      <td>0</td>\n",
       "    </tr>\n",
       "    <tr>\n",
       "      <th>3</th>\n",
       "      <td>OH</td>\n",
       "      <td>84</td>\n",
       "      <td>1</td>\n",
       "      <td>0</td>\n",
       "      <td>0</td>\n",
       "      <td>299.4</td>\n",
       "      <td>71</td>\n",
       "      <td>50.90</td>\n",
       "      <td>61.9</td>\n",
       "      <td>88</td>\n",
       "      <td>5.26</td>\n",
       "      <td>196.9</td>\n",
       "      <td>89</td>\n",
       "      <td>8.86</td>\n",
       "      <td>6.6</td>\n",
       "      <td>7</td>\n",
       "      <td>1.78</td>\n",
       "      <td>2</td>\n",
       "      <td>0</td>\n",
       "    </tr>\n",
       "    <tr>\n",
       "      <th>4</th>\n",
       "      <td>OK</td>\n",
       "      <td>75</td>\n",
       "      <td>1</td>\n",
       "      <td>0</td>\n",
       "      <td>0</td>\n",
       "      <td>166.7</td>\n",
       "      <td>113</td>\n",
       "      <td>28.34</td>\n",
       "      <td>148.3</td>\n",
       "      <td>122</td>\n",
       "      <td>12.61</td>\n",
       "      <td>186.9</td>\n",
       "      <td>121</td>\n",
       "      <td>8.41</td>\n",
       "      <td>10.1</td>\n",
       "      <td>3</td>\n",
       "      <td>2.73</td>\n",
       "      <td>3</td>\n",
       "      <td>0</td>\n",
       "    </tr>\n",
       "  </tbody>\n",
       "</table>\n",
       "</div>"
      ],
      "text/plain": [
       "  state  account length  international plan  voice mail plan  \\\n",
       "0    KS             128                   0                1   \n",
       "1    OH             107                   0                1   \n",
       "2    NJ             137                   0                0   \n",
       "3    OH              84                   1                0   \n",
       "4    OK              75                   1                0   \n",
       "\n",
       "   number vmail messages  total day minutes  total day calls  \\\n",
       "0                     25              265.1              110   \n",
       "1                     26              161.6              123   \n",
       "2                      0              243.4              114   \n",
       "3                      0              299.4               71   \n",
       "4                      0              166.7              113   \n",
       "\n",
       "   total day charge  total eve minutes  total eve calls  total eve charge  \\\n",
       "0             45.07              197.4               99             16.78   \n",
       "1             27.47              195.5              103             16.62   \n",
       "2             41.38              121.2              110             10.30   \n",
       "3             50.90               61.9               88              5.26   \n",
       "4             28.34              148.3              122             12.61   \n",
       "\n",
       "   total night minutes  total night calls  total night charge  \\\n",
       "0                244.7                 91               11.01   \n",
       "1                254.4                103               11.45   \n",
       "2                162.6                104                7.32   \n",
       "3                196.9                 89                8.86   \n",
       "4                186.9                121                8.41   \n",
       "\n",
       "   total intl minutes  total intl calls  total intl charge  \\\n",
       "0                10.0                 3               2.70   \n",
       "1                13.7                 3               3.70   \n",
       "2                12.2                 5               3.29   \n",
       "3                 6.6                 7               1.78   \n",
       "4                10.1                 3               2.73   \n",
       "\n",
       "   customer service calls  churn  \n",
       "0                       1      0  \n",
       "1                       1      0  \n",
       "2                       0      0  \n",
       "3                       2      0  \n",
       "4                       3      0  "
      ]
     },
     "execution_count": 8,
     "metadata": {},
     "output_type": "execute_result"
    }
   ],
   "source": [
    "# Dropping unnecessary columns and viewing results\n",
    "# \n",
    "df_clean = df.drop(columns=['area code', 'phone number'], axis=1)\n",
    "df_clean['international plan'].replace(['no','yes'], [0,1], inplace = True)\n",
    "df_clean['voice mail plan'].replace(['no','yes'], [0,1], inplace = True)\n",
    "df_clean['churn'].replace([False, True], [0,1], inplace = True)\n",
    "\n",
    "df_clean.head()"
   ]
  },
  {
   "cell_type": "code",
   "execution_count": 9,
   "metadata": {},
   "outputs": [
    {
     "data": {
      "text/plain": [
       "0    2850\n",
       "1     483\n",
       "Name: churn, dtype: int64"
      ]
     },
     "execution_count": 9,
     "metadata": {},
     "output_type": "execute_result"
    }
   ],
   "source": [
    "df_clean['churn'].value_counts()"
   ]
  },
  {
   "cell_type": "code",
   "execution_count": 10,
   "metadata": {},
   "outputs": [
    {
     "data": {
      "text/html": [
       "<div>\n",
       "<style scoped>\n",
       "    .dataframe tbody tr th:only-of-type {\n",
       "        vertical-align: middle;\n",
       "    }\n",
       "\n",
       "    .dataframe tbody tr th {\n",
       "        vertical-align: top;\n",
       "    }\n",
       "\n",
       "    .dataframe thead th {\n",
       "        text-align: right;\n",
       "    }\n",
       "</style>\n",
       "<table border=\"1\" class=\"dataframe\">\n",
       "  <thead>\n",
       "    <tr style=\"text-align: right;\">\n",
       "      <th></th>\n",
       "      <th>account length</th>\n",
       "      <th>international plan</th>\n",
       "      <th>voice mail plan</th>\n",
       "      <th>number vmail messages</th>\n",
       "      <th>total day minutes</th>\n",
       "      <th>total day calls</th>\n",
       "      <th>total day charge</th>\n",
       "      <th>total eve minutes</th>\n",
       "      <th>total eve calls</th>\n",
       "      <th>total eve charge</th>\n",
       "      <th>total night minutes</th>\n",
       "      <th>total night calls</th>\n",
       "      <th>total night charge</th>\n",
       "      <th>total intl minutes</th>\n",
       "      <th>total intl calls</th>\n",
       "      <th>total intl charge</th>\n",
       "      <th>customer service calls</th>\n",
       "      <th>churn</th>\n",
       "    </tr>\n",
       "  </thead>\n",
       "  <tbody>\n",
       "    <tr>\n",
       "      <th>count</th>\n",
       "      <td>3333.000000</td>\n",
       "      <td>3333.000000</td>\n",
       "      <td>3333.000000</td>\n",
       "      <td>3333.000000</td>\n",
       "      <td>3333.000000</td>\n",
       "      <td>3333.000000</td>\n",
       "      <td>3333.000000</td>\n",
       "      <td>3333.000000</td>\n",
       "      <td>3333.000000</td>\n",
       "      <td>3333.000000</td>\n",
       "      <td>3333.000000</td>\n",
       "      <td>3333.000000</td>\n",
       "      <td>3333.000000</td>\n",
       "      <td>3333.000000</td>\n",
       "      <td>3333.000000</td>\n",
       "      <td>3333.000000</td>\n",
       "      <td>3333.000000</td>\n",
       "      <td>3333.000000</td>\n",
       "    </tr>\n",
       "    <tr>\n",
       "      <th>mean</th>\n",
       "      <td>101.064806</td>\n",
       "      <td>0.096910</td>\n",
       "      <td>0.276628</td>\n",
       "      <td>8.099010</td>\n",
       "      <td>179.775098</td>\n",
       "      <td>100.435644</td>\n",
       "      <td>30.562307</td>\n",
       "      <td>200.980348</td>\n",
       "      <td>100.114311</td>\n",
       "      <td>17.083540</td>\n",
       "      <td>200.872037</td>\n",
       "      <td>100.107711</td>\n",
       "      <td>9.039325</td>\n",
       "      <td>10.237294</td>\n",
       "      <td>4.479448</td>\n",
       "      <td>2.764581</td>\n",
       "      <td>1.562856</td>\n",
       "      <td>0.144914</td>\n",
       "    </tr>\n",
       "    <tr>\n",
       "      <th>std</th>\n",
       "      <td>39.822106</td>\n",
       "      <td>0.295879</td>\n",
       "      <td>0.447398</td>\n",
       "      <td>13.688365</td>\n",
       "      <td>54.467389</td>\n",
       "      <td>20.069084</td>\n",
       "      <td>9.259435</td>\n",
       "      <td>50.713844</td>\n",
       "      <td>19.922625</td>\n",
       "      <td>4.310668</td>\n",
       "      <td>50.573847</td>\n",
       "      <td>19.568609</td>\n",
       "      <td>2.275873</td>\n",
       "      <td>2.791840</td>\n",
       "      <td>2.461214</td>\n",
       "      <td>0.753773</td>\n",
       "      <td>1.315491</td>\n",
       "      <td>0.352067</td>\n",
       "    </tr>\n",
       "    <tr>\n",
       "      <th>min</th>\n",
       "      <td>1.000000</td>\n",
       "      <td>0.000000</td>\n",
       "      <td>0.000000</td>\n",
       "      <td>0.000000</td>\n",
       "      <td>0.000000</td>\n",
       "      <td>0.000000</td>\n",
       "      <td>0.000000</td>\n",
       "      <td>0.000000</td>\n",
       "      <td>0.000000</td>\n",
       "      <td>0.000000</td>\n",
       "      <td>23.200000</td>\n",
       "      <td>33.000000</td>\n",
       "      <td>1.040000</td>\n",
       "      <td>0.000000</td>\n",
       "      <td>0.000000</td>\n",
       "      <td>0.000000</td>\n",
       "      <td>0.000000</td>\n",
       "      <td>0.000000</td>\n",
       "    </tr>\n",
       "    <tr>\n",
       "      <th>25%</th>\n",
       "      <td>74.000000</td>\n",
       "      <td>0.000000</td>\n",
       "      <td>0.000000</td>\n",
       "      <td>0.000000</td>\n",
       "      <td>143.700000</td>\n",
       "      <td>87.000000</td>\n",
       "      <td>24.430000</td>\n",
       "      <td>166.600000</td>\n",
       "      <td>87.000000</td>\n",
       "      <td>14.160000</td>\n",
       "      <td>167.000000</td>\n",
       "      <td>87.000000</td>\n",
       "      <td>7.520000</td>\n",
       "      <td>8.500000</td>\n",
       "      <td>3.000000</td>\n",
       "      <td>2.300000</td>\n",
       "      <td>1.000000</td>\n",
       "      <td>0.000000</td>\n",
       "    </tr>\n",
       "    <tr>\n",
       "      <th>50%</th>\n",
       "      <td>101.000000</td>\n",
       "      <td>0.000000</td>\n",
       "      <td>0.000000</td>\n",
       "      <td>0.000000</td>\n",
       "      <td>179.400000</td>\n",
       "      <td>101.000000</td>\n",
       "      <td>30.500000</td>\n",
       "      <td>201.400000</td>\n",
       "      <td>100.000000</td>\n",
       "      <td>17.120000</td>\n",
       "      <td>201.200000</td>\n",
       "      <td>100.000000</td>\n",
       "      <td>9.050000</td>\n",
       "      <td>10.300000</td>\n",
       "      <td>4.000000</td>\n",
       "      <td>2.780000</td>\n",
       "      <td>1.000000</td>\n",
       "      <td>0.000000</td>\n",
       "    </tr>\n",
       "    <tr>\n",
       "      <th>75%</th>\n",
       "      <td>127.000000</td>\n",
       "      <td>0.000000</td>\n",
       "      <td>1.000000</td>\n",
       "      <td>20.000000</td>\n",
       "      <td>216.400000</td>\n",
       "      <td>114.000000</td>\n",
       "      <td>36.790000</td>\n",
       "      <td>235.300000</td>\n",
       "      <td>114.000000</td>\n",
       "      <td>20.000000</td>\n",
       "      <td>235.300000</td>\n",
       "      <td>113.000000</td>\n",
       "      <td>10.590000</td>\n",
       "      <td>12.100000</td>\n",
       "      <td>6.000000</td>\n",
       "      <td>3.270000</td>\n",
       "      <td>2.000000</td>\n",
       "      <td>0.000000</td>\n",
       "    </tr>\n",
       "    <tr>\n",
       "      <th>max</th>\n",
       "      <td>243.000000</td>\n",
       "      <td>1.000000</td>\n",
       "      <td>1.000000</td>\n",
       "      <td>51.000000</td>\n",
       "      <td>350.800000</td>\n",
       "      <td>165.000000</td>\n",
       "      <td>59.640000</td>\n",
       "      <td>363.700000</td>\n",
       "      <td>170.000000</td>\n",
       "      <td>30.910000</td>\n",
       "      <td>395.000000</td>\n",
       "      <td>175.000000</td>\n",
       "      <td>17.770000</td>\n",
       "      <td>20.000000</td>\n",
       "      <td>20.000000</td>\n",
       "      <td>5.400000</td>\n",
       "      <td>9.000000</td>\n",
       "      <td>1.000000</td>\n",
       "    </tr>\n",
       "  </tbody>\n",
       "</table>\n",
       "</div>"
      ],
      "text/plain": [
       "       account length  international plan  voice mail plan  \\\n",
       "count     3333.000000         3333.000000      3333.000000   \n",
       "mean       101.064806            0.096910         0.276628   \n",
       "std         39.822106            0.295879         0.447398   \n",
       "min          1.000000            0.000000         0.000000   \n",
       "25%         74.000000            0.000000         0.000000   \n",
       "50%        101.000000            0.000000         0.000000   \n",
       "75%        127.000000            0.000000         1.000000   \n",
       "max        243.000000            1.000000         1.000000   \n",
       "\n",
       "       number vmail messages  total day minutes  total day calls  \\\n",
       "count            3333.000000        3333.000000      3333.000000   \n",
       "mean                8.099010         179.775098       100.435644   \n",
       "std                13.688365          54.467389        20.069084   \n",
       "min                 0.000000           0.000000         0.000000   \n",
       "25%                 0.000000         143.700000        87.000000   \n",
       "50%                 0.000000         179.400000       101.000000   \n",
       "75%                20.000000         216.400000       114.000000   \n",
       "max                51.000000         350.800000       165.000000   \n",
       "\n",
       "       total day charge  total eve minutes  total eve calls  total eve charge  \\\n",
       "count       3333.000000        3333.000000      3333.000000       3333.000000   \n",
       "mean          30.562307         200.980348       100.114311         17.083540   \n",
       "std            9.259435          50.713844        19.922625          4.310668   \n",
       "min            0.000000           0.000000         0.000000          0.000000   \n",
       "25%           24.430000         166.600000        87.000000         14.160000   \n",
       "50%           30.500000         201.400000       100.000000         17.120000   \n",
       "75%           36.790000         235.300000       114.000000         20.000000   \n",
       "max           59.640000         363.700000       170.000000         30.910000   \n",
       "\n",
       "       total night minutes  total night calls  total night charge  \\\n",
       "count          3333.000000        3333.000000         3333.000000   \n",
       "mean            200.872037         100.107711            9.039325   \n",
       "std              50.573847          19.568609            2.275873   \n",
       "min              23.200000          33.000000            1.040000   \n",
       "25%             167.000000          87.000000            7.520000   \n",
       "50%             201.200000         100.000000            9.050000   \n",
       "75%             235.300000         113.000000           10.590000   \n",
       "max             395.000000         175.000000           17.770000   \n",
       "\n",
       "       total intl minutes  total intl calls  total intl charge  \\\n",
       "count         3333.000000       3333.000000        3333.000000   \n",
       "mean            10.237294          4.479448           2.764581   \n",
       "std              2.791840          2.461214           0.753773   \n",
       "min              0.000000          0.000000           0.000000   \n",
       "25%              8.500000          3.000000           2.300000   \n",
       "50%             10.300000          4.000000           2.780000   \n",
       "75%             12.100000          6.000000           3.270000   \n",
       "max             20.000000         20.000000           5.400000   \n",
       "\n",
       "       customer service calls        churn  \n",
       "count             3333.000000  3333.000000  \n",
       "mean                 1.562856     0.144914  \n",
       "std                  1.315491     0.352067  \n",
       "min                  0.000000     0.000000  \n",
       "25%                  1.000000     0.000000  \n",
       "50%                  1.000000     0.000000  \n",
       "75%                  2.000000     0.000000  \n",
       "max                  9.000000     1.000000  "
      ]
     },
     "execution_count": 10,
     "metadata": {},
     "output_type": "execute_result"
    }
   ],
   "source": [
    "# Viewing summary statistics\n",
    "\n",
    "df_clean.describe()"
   ]
  },
  {
   "cell_type": "code",
   "execution_count": 11,
   "metadata": {},
   "outputs": [
    {
     "data": {
      "image/png": "[encoded data removed]",
      "text/plain": [
       "<Figure size 1080x1296 with 2 Axes>"
      ]
     },
     "metadata": {},
     "output_type": "display_data"
    }
   ],
   "source": [
    "# Correlation heatmap for intial cleansed dataset\n",
    "\n",
    "fig, ax = plt.subplots(figsize=(15, 18))\n",
    "\n",
    "sns.heatmap(df_clean.corr(), annot=True);"
   ]
  },
  {
   "cell_type": "markdown",
   "metadata": {},
   "source": [
    "Based on this map, it appears **international plan** has the highest correlation with **churn**, which we'll be using as our target. There also appears to be a three-way tie amongst **total day minutes**, **total day charge**, and **customer service calls** for the second highest correlation to **churn**."
   ]
  },
  {
   "cell_type": "markdown",
   "metadata": {},
   "source": [
    "# BUILDING FIRST SIMPLE MODEL (DECISION TREE CLASSIFIER)"
   ]
  },
  {
   "cell_type": "code",
   "execution_count": 12,
   "metadata": {},
   "outputs": [
    {
     "name": "stdout",
     "output_type": "stream",
     "text": [
      "Feature: 0, Score: 0.00000\n",
      "Feature: 1, Score: 0.00000\n",
      "Feature: 2, Score: 0.00000\n",
      "Feature: 3, Score: 0.00000\n",
      "Feature: 4, Score: 0.41201\n",
      "Feature: 5, Score: 0.00000\n",
      "Feature: 6, Score: 0.17256\n",
      "Feature: 7, Score: 0.00000\n",
      "Feature: 8, Score: 0.00000\n",
      "Feature: 9, Score: 0.00000\n",
      "Feature: 10, Score: 0.00000\n",
      "Feature: 11, Score: 0.00000\n",
      "Feature: 12, Score: 0.00000\n",
      "Feature: 13, Score: 0.00000\n",
      "Feature: 14, Score: 0.00000\n",
      "Feature: 15, Score: 0.00000\n",
      "Feature: 16, Score: 0.41543\n",
      "Training: 0.8803521408563425\n",
      "Testing: 0.8693045563549161\n"
     ]
    }
   ],
   "source": [
    "# Separate data into feature and target DataFrames\n",
    "X = df_clean.drop(columns = ['churn', 'state'], axis = 1)\n",
    "y = df_clean['churn']\n",
    "\n",
    "# Split data into train and test sets\n",
    "X_train, X_test, y_train, y_test = train_test_split(X, y, test_size=.25, random_state=1)\n",
    "\n",
    "# Create model\n",
    "dtc_model1 = DecisionTreeClassifier(max_depth = 2, random_state=42)\n",
    "\n",
    "# fit the model\n",
    "dtc_model1.fit(X_train, y_train)\n",
    "\n",
    "# get importance\n",
    "importance = dtc_model1.feature_importances_\n",
    "\n",
    "# summarize feature importance\n",
    "for i,v in enumerate(importance):\n",
    " print('Feature: %0d, Score: %.5f' % (i,v))\n",
    "\n",
    "# Accuracy on training data & test data\n",
    "print('Training:', dtc_model1.score(X_train, y_train))\n",
    "print('Testing:', dtc_model1.score(X_test, y_test))"
   ]
  },
  {
   "cell_type": "code",
   "execution_count": 13,
   "metadata": {},
   "outputs": [
    {
     "name": "stdout",
     "output_type": "stream",
     "text": [
      "\n",
      " clasification report:\n",
      "               precision    recall  f1-score   support\n",
      "\n",
      "           0       0.88      0.98      0.93       712\n",
      "           1       0.69      0.20      0.31       122\n",
      "\n",
      "    accuracy                           0.87       834\n",
      "   macro avg       0.78      0.59      0.62       834\n",
      "weighted avg       0.85      0.87      0.84       834\n",
      "\n"
     ]
    }
   ],
   "source": [
    "prediction = dtc_model1.predict(X_test)\n",
    "\n",
    "print ('\\n clasification report:\\n', classification_report(y_test,prediction))"
   ]
  },
  {
   "cell_type": "code",
   "execution_count": 14,
   "metadata": {},
   "outputs": [
    {
     "name": "stdout",
     "output_type": "stream",
     "text": [
      "Feature: 0, Score: 0.00000\n",
      "Feature: 1, Score: 0.00000\n",
      "Feature: 2, Score: 0.00000\n",
      "Feature: 3, Score: 0.00000\n",
      "Feature: 4, Score: 0.15523\n",
      "Feature: 5, Score: 0.00000\n",
      "Feature: 6, Score: 0.37288\n",
      "Feature: 7, Score: 0.00000\n",
      "Feature: 8, Score: 0.00000\n",
      "Feature: 9, Score: 0.00000\n",
      "Feature: 10, Score: 0.00000\n",
      "Feature: 11, Score: 0.00000\n",
      "Feature: 12, Score: 0.00000\n",
      "Feature: 13, Score: 0.00000\n",
      "Feature: 14, Score: 0.00000\n",
      "Feature: 15, Score: 0.00000\n",
      "Feature: 16, Score: 0.47189\n",
      "Training: 0.3585434173669468\n",
      "Testing: 0.3776978417266187\n"
     ]
    }
   ],
   "source": [
    "# Separate data into feature and target DataFrames\n",
    "X = df_clean.drop(columns = ['customer service calls', 'state'], axis = 1)\n",
    "y = df_clean['customer service calls']\n",
    "\n",
    "# Split data into train and test sets\n",
    "X_train, X_test, y_train, y_test = train_test_split(X, y, test_size=.25, random_state=1)\n",
    "\n",
    "# Create model\n",
    "dtc_model_csc = DecisionTreeClassifier(max_depth = 2, random_state=42)\n",
    "\n",
    "# fit the model\n",
    "dtc_model_csc.fit(X_train, y_train)\n",
    "\n",
    "# get importance\n",
    "importance = dtc_model_csc.feature_importances_\n",
    "\n",
    "# summarize feature importance\n",
    "for i,v in enumerate(importance):\n",
    " print('Feature: %0d, Score: %.5f' % (i,v))\n",
    "\n",
    "# Accuracy on training data & test data\n",
    "print('Training:', dtc_model_csc.score(X_train, y_train))\n",
    "print('Testing:', dtc_model_csc.score(X_test, y_test))"
   ]
  },
  {
   "cell_type": "markdown",
   "metadata": {},
   "source": [
    "# SECOND DTC MODEL USING MORE DEPTH"
   ]
  },
  {
   "cell_type": "code",
   "execution_count": 15,
   "metadata": {},
   "outputs": [
    {
     "name": "stdout",
     "output_type": "stream",
     "text": [
      "Feature: 0, Score: 0.00000\n",
      "Feature: 1, Score: 0.09980\n",
      "Feature: 2, Score: 0.05771\n",
      "Feature: 3, Score: 0.01002\n",
      "Feature: 4, Score: 0.20839\n",
      "Feature: 5, Score: 0.00808\n",
      "Feature: 6, Score: 0.10453\n",
      "Feature: 7, Score: 0.09222\n",
      "Feature: 8, Score: 0.00768\n",
      "Feature: 9, Score: 0.04018\n",
      "Feature: 10, Score: 0.01663\n",
      "Feature: 11, Score: 0.00000\n",
      "Feature: 12, Score: 0.00573\n",
      "Feature: 13, Score: 0.10006\n",
      "Feature: 14, Score: 0.08239\n",
      "Feature: 15, Score: 0.00563\n",
      "Feature: 16, Score: 0.16094\n",
      "Training: 0.9555822328931572\n",
      "Testing: 0.9280575539568345\n"
     ]
    }
   ],
   "source": [
    "# Separate data into feature and target DataFrames\n",
    "X = df_clean.drop(columns = ['churn', 'state'], axis = 1)\n",
    "y = df_clean['churn']\n",
    "\n",
    "# Split data into train and test sets\n",
    "X_train, X_test, y_train, y_test = train_test_split(X, y, test_size=.25, random_state=1)\n",
    "\n",
    "# Create model with increased max_depth\n",
    "dtc_model2 = DecisionTreeClassifier(max_depth = 5, random_state=42)\n",
    "\n",
    "# fit the model\n",
    "dtc_model2.fit(X_train, y_train)\n",
    "\n",
    "# get importance\n",
    "importance = dtc_model2.feature_importances_\n",
    "\n",
    "# summarize feature importance\n",
    "for i,v in enumerate(importance):\n",
    " print('Feature: %0d, Score: %.5f' % (i,v))\n",
    "\n",
    "# Accuracy on training data & test data\n",
    "print('Training:', dtc_model2.score(X_train, y_train))\n",
    "print('Testing:', dtc_model2.score(X_test, y_test))"
   ]
  },
  {
   "cell_type": "markdown",
   "metadata": {},
   "source": [
    "# THIRD DTC MODEL USING CROSS VALIDATION\n",
    "\n",
    "The algorithm is defined with any required hyperparameters (we will use the defaults), then we will use repeated stratified k-fold cross-validation to evaluate the model. We will use three repeats of 10-fold cross-validation, meaning that 10-fold cross-validation is applied three times fitting and evaluating 30 models on the dataset.\n",
    "\n",
    "The dataset is stratified, meaning that each fold of the cross-validation split will have the same class distribution as the original dataset. We will evaluate the model using the ROC area under curve (AUC) metric. This can be optimistic for severely imbalanced datasets but will still show a relative change with better performing models."
   ]
  },
  {
   "cell_type": "code",
   "execution_count": 16,
   "metadata": {},
   "outputs": [
    {
     "name": "stdout",
     "output_type": "stream",
     "text": [
      "Mean ROC AUC: 0.774\n"
     ]
    }
   ],
   "source": [
    "# Separate data into feature and target DataFrames\n",
    "X = df_clean.drop(columns = ['churn', 'state'], axis = 1)\n",
    "y = df_clean['churn']\n",
    "\n",
    "# Split data into train and test sets\n",
    "X_train, X_test, y_train, y_test = train_test_split(X, y, test_size=.25, random_state=1)\n",
    "\n",
    "# define model\n",
    "dtc_model3 = DecisionTreeClassifier()\n",
    "# evaluate pipeline\n",
    "cv = RepeatedStratifiedKFold(n_splits=10, n_repeats=3, random_state=1)\n",
    "scores = cross_val_score(dtc_model3, X_test, y_test, scoring='roc_auc', cv=cv, n_jobs=-1)\n",
    "print('Mean ROC AUC: %.3f' % mean(scores))"
   ]
  },
  {
   "cell_type": "code",
   "execution_count": 17,
   "metadata": {},
   "outputs": [
    {
     "name": "stdout",
     "output_type": "stream",
     "text": [
      "Feature: 0, Score: 0.01624\n",
      "Feature: 1, Score: 0.07244\n",
      "Feature: 2, Score: 0.04729\n",
      "Feature: 3, Score: 0.01139\n",
      "Feature: 4, Score: 0.21154\n",
      "Feature: 5, Score: 0.01822\n",
      "Feature: 6, Score: 0.06389\n",
      "Feature: 7, Score: 0.10866\n",
      "Feature: 8, Score: 0.02286\n",
      "Feature: 9, Score: 0.04779\n",
      "Feature: 10, Score: 0.04233\n",
      "Feature: 11, Score: 0.02897\n",
      "Feature: 12, Score: 0.02143\n",
      "Feature: 13, Score: 0.01950\n",
      "Feature: 14, Score: 0.07227\n",
      "Feature: 15, Score: 0.07847\n",
      "Feature: 16, Score: 0.11673\n"
     ]
    }
   ],
   "source": [
    "# fit the model\n",
    "dtc_model3.fit(X_train, y_train)\n",
    "\n",
    "# get importance\n",
    "importance = dtc_model3.feature_importances_\n",
    "\n",
    "# summarize feature importance\n",
    "for i,v in enumerate(importance):\n",
    " print('Feature: %0d, Score: %.5f' % (i,v))"
   ]
  },
  {
   "cell_type": "markdown",
   "metadata": {},
   "source": [
    "# FOURTH DTC MODEL USING SMOTE\n",
    "\n",
    "Now, we can try the same model and the same evaluation method, although use a SMOTE transformed version of the dataset. This can be achieved by defining a Pipeline that first transforms the training dataset with SMOTE then fits the model. This pipeline can then be evaluated using repeated k-fold cross-validation."
   ]
  },
  {
   "cell_type": "code",
   "execution_count": 18,
   "metadata": {},
   "outputs": [
    {
     "name": "stdout",
     "output_type": "stream",
     "text": [
      "Mean ROC AUC: 0.737\n"
     ]
    }
   ],
   "source": [
    "# Separate data into feature and target DataFrames\n",
    "X = df_clean.drop(columns = ['churn', 'state'], axis = 1)\n",
    "y = df_clean['churn']\n",
    "\n",
    "# Split data into train and test sets\n",
    "X_train, X_test, y_train, y_test = train_test_split(X, y, test_size=.25, random_state=1)\n",
    "\n",
    "# define pipeline\n",
    "steps = [('over', SMOTE()), ('model', DecisionTreeClassifier())]\n",
    "dtc_model4 = Pipeline(steps=steps)\n",
    "\n",
    "# evaluate pipeline\n",
    "cv = RepeatedStratifiedKFold(n_splits=10, n_repeats=3, random_state=1)\n",
    "scores = cross_val_score(dtc_model4, X_test, y_test, scoring='roc_auc', cv=cv, n_jobs=-1)\n",
    "print('Mean ROC AUC: %.3f' % mean(scores))"
   ]
  },
  {
   "cell_type": "markdown",
   "metadata": {},
   "source": [
    "# DTC MODEL EVALUATION AND COMPARISON"
   ]
  },
  {
   "cell_type": "code",
   "execution_count": 19,
   "metadata": {},
   "outputs": [
    {
     "name": "stdout",
     "output_type": "stream",
     "text": [
      "\n",
      " clasification report 1:\n",
      "               precision    recall  f1-score   support\n",
      "\n",
      "           0       0.88      0.98      0.93       712\n",
      "           1       0.69      0.20      0.31       122\n",
      "\n",
      "    accuracy                           0.87       834\n",
      "   macro avg       0.78      0.59      0.62       834\n",
      "weighted avg       0.85      0.87      0.84       834\n",
      "\n",
      "\n",
      " clasification report 2:\n",
      "               precision    recall  f1-score   support\n",
      "\n",
      "           0       0.95      0.97      0.96       712\n",
      "           1       0.80      0.68      0.73       122\n",
      "\n",
      "    accuracy                           0.93       834\n",
      "   macro avg       0.87      0.83      0.85       834\n",
      "weighted avg       0.92      0.93      0.93       834\n",
      "\n",
      "\n",
      " clasification report 3:\n",
      "               precision    recall  f1-score   support\n",
      "\n",
      "           0       0.96      0.93      0.95       712\n",
      "           1       0.66      0.75      0.70       122\n",
      "\n",
      "    accuracy                           0.91       834\n",
      "   macro avg       0.81      0.84      0.83       834\n",
      "weighted avg       0.91      0.91      0.91       834\n",
      "\n",
      "\n",
      " clasification report 4:\n",
      "               precision    recall  f1-score   support\n",
      "\n",
      "           0       0.96      0.86      0.90       712\n",
      "           1       0.48      0.77      0.59       122\n",
      "\n",
      "    accuracy                           0.84       834\n",
      "   macro avg       0.72      0.81      0.75       834\n",
      "weighted avg       0.89      0.84      0.86       834\n",
      "\n"
     ]
    }
   ],
   "source": [
    "# Separate data into feature and target DataFrames\n",
    "X = df_clean.drop(columns = ['churn', 'state'], axis = 1)\n",
    "y = df_clean['churn']\n",
    "\n",
    "# Split data into train and test sets\n",
    "X_train, X_test, y_train, y_test = train_test_split(X, y, test_size=.25, random_state=1)\n",
    "\n",
    "# fit the model\n",
    "dtc_model3.fit(X_train, y_train)\n",
    "dtc_model4.fit(X_train, y_train)\n",
    "\n",
    "# get predictions for each of the 3 models\n",
    "prediction1 = dtc_model1.predict(X_test)\n",
    "prediction2 = dtc_model2.predict(X_test)\n",
    "prediction3 = dtc_model3.predict(X_test)\n",
    "prediction4 = dtc_model4.predict(X_test)\n",
    "\n",
    "print ('\\n clasification report 1:\\n', classification_report(y_test,prediction1))\n",
    "print ('\\n clasification report 2:\\n', classification_report(y_test,prediction2))\n",
    "print ('\\n clasification report 3:\\n', classification_report(y_test,prediction3))\n",
    "print ('\\n clasification report 4:\\n', classification_report(y_test,prediction4))"
   ]
  },
  {
   "cell_type": "code",
   "execution_count": 20,
   "metadata": {},
   "outputs": [
    {
     "name": "stdout",
     "output_type": "stream",
     "text": [
      "\n",
      " confussion matrix 1:\n",
      " [[701  11]\n",
      " [ 98  24]]\n",
      "\n",
      " confussion matrix 2:\n",
      " [[691  21]\n",
      " [ 39  83]]\n",
      "\n",
      " confussion matrix 3:\n",
      " [[665  47]\n",
      " [ 30  92]]\n",
      "\n",
      " confussion matrix 4:\n",
      " [[610 102]\n",
      " [ 28  94]]\n"
     ]
    }
   ],
   "source": [
    "print ('\\n confussion matrix 1:\\n',confusion_matrix(y_test, prediction1))\n",
    "print ('\\n confussion matrix 2:\\n',confusion_matrix(y_test, prediction2))\n",
    "print ('\\n confussion matrix 3:\\n',confusion_matrix(y_test, prediction3))\n",
    "print ('\\n confussion matrix 4:\\n',confusion_matrix(y_test, prediction4))"
   ]
  },
  {
   "cell_type": "markdown",
   "metadata": {},
   "source": [
    "The third DTC model has a high accuracy score, the highest recall score, and the fewest false negatives. We are aiming to reduce the number of false negatives because we want to avoid predicting a customer won't churn when in fact they have. Although the fourth model produces the same recall score and same number of false negatives, it is less accurate overall due to predicting a high number of false positives."
   ]
  },
  {
   "cell_type": "markdown",
   "metadata": {},
   "source": [
    "# FIRST SIMPLE MODEL (LOGISTIC REGRESSION)"
   ]
  },
  {
   "cell_type": "code",
   "execution_count": 21,
   "metadata": {},
   "outputs": [
    {
     "data": {
      "text/plain": [
       "LogisticRegression(random_state=42)"
      ]
     },
     "execution_count": 21,
     "metadata": {},
     "output_type": "execute_result"
    }
   ],
   "source": [
    "# Separate data into feature and target DataFrames\n",
    "X = df_clean.drop(columns = ['churn', 'state', 'total day charge'], axis = 1)\n",
    "y = df_clean['churn']\n",
    "\n",
    "# Split data into train and test sets\n",
    "X_train, X_test, y_train, y_test = train_test_split(X, y, test_size=.25, random_state=1)\n",
    "\n",
    "# Scale the data for Logistic Regression modeling\n",
    "scaler = StandardScaler()\n",
    "scaler.fit(X_train)\n",
    "X_train_sc = scaler.transform(X_train)\n",
    "X_test_sc = scaler.transform(X_test)\n",
    "\n",
    "# Train a logistic regresssion model with the train data\n",
    "log_model = LogisticRegression(random_state=42)\n",
    "log_model.fit(X_train_sc, y_train)"
   ]
  },
  {
   "cell_type": "code",
   "execution_count": 22,
   "metadata": {},
   "outputs": [
    {
     "name": "stdout",
     "output_type": "stream",
     "text": [
      "Training: 0.8651460584233693\n",
      "Testing: 0.8525179856115108\n"
     ]
    }
   ],
   "source": [
    "# Accuracy on training data & test data\n",
    "print('Training:', log_model.score(X_train_sc, y_train))\n",
    "print('Testing:', log_model.score(X_test_sc, y_test))"
   ]
  },
  {
   "cell_type": "code",
   "execution_count": 23,
   "metadata": {},
   "outputs": [
    {
     "name": "stdout",
     "output_type": "stream",
     "text": [
      "Feature: 0, Score: 0.04128\n",
      "Feature: 1, Score: 0.59999\n",
      "Feature: 2, Score: -0.69448\n",
      "Feature: 3, Score: 0.26208\n",
      "Feature: 4, Score: 0.69623\n",
      "Feature: 5, Score: 0.04157\n",
      "Feature: 6, Score: 0.18111\n",
      "Feature: 7, Score: 0.03499\n",
      "Feature: 8, Score: 0.18108\n",
      "Feature: 9, Score: 0.10800\n",
      "Feature: 10, Score: -0.00475\n",
      "Feature: 11, Score: 0.10626\n",
      "Feature: 12, Score: 0.11599\n",
      "Feature: 13, Score: -0.33071\n",
      "Feature: 14, Score: 0.11971\n",
      "Feature: 15, Score: 0.72105\n"
     ]
    }
   ],
   "source": [
    "# get importance\n",
    "importance = log_model.coef_[0]\n",
    "\n",
    "# summarize feature importance\n",
    "for i,v in enumerate(importance):\n",
    " print('Feature: %0d, Score: %.5f' % (i,v))"
   ]
  },
  {
   "cell_type": "code",
   "execution_count": 24,
   "metadata": {},
   "outputs": [
    {
     "name": "stdout",
     "output_type": "stream",
     "text": [
      "<class 'pandas.core.frame.DataFrame'>\n",
      "Int64Index: 2499 entries, 2654 to 1061\n",
      "Data columns (total 16 columns):\n",
      " #   Column                  Non-Null Count  Dtype  \n",
      "---  ------                  --------------  -----  \n",
      " 0   account length          2499 non-null   int64  \n",
      " 1   international plan      2499 non-null   int64  \n",
      " 2   voice mail plan         2499 non-null   int64  \n",
      " 3   number vmail messages   2499 non-null   int64  \n",
      " 4   total day minutes       2499 non-null   float64\n",
      " 5   total day calls         2499 non-null   int64  \n",
      " 6   total eve minutes       2499 non-null   float64\n",
      " 7   total eve calls         2499 non-null   int64  \n",
      " 8   total eve charge        2499 non-null   float64\n",
      " 9   total night minutes     2499 non-null   float64\n",
      " 10  total night calls       2499 non-null   int64  \n",
      " 11  total night charge      2499 non-null   float64\n",
      " 12  total intl minutes      2499 non-null   float64\n",
      " 13  total intl calls        2499 non-null   int64  \n",
      " 14  total intl charge       2499 non-null   float64\n",
      " 15  customer service calls  2499 non-null   int64  \n",
      "dtypes: float64(7), int64(9)\n",
      "memory usage: 331.9 KB\n"
     ]
    }
   ],
   "source": [
    "X_train.info()"
   ]
  },
  {
   "cell_type": "code",
   "execution_count": 25,
   "metadata": {},
   "outputs": [
    {
     "name": "stdout",
     "output_type": "stream",
     "text": [
      "              precision    recall  f1-score   support\n",
      "\n",
      "           0       0.87      0.97      0.92       712\n",
      "           1       0.49      0.18      0.26       122\n",
      "\n",
      "    accuracy                           0.85       834\n",
      "   macro avg       0.68      0.57      0.59       834\n",
      "weighted avg       0.82      0.85      0.82       834\n",
      "\n"
     ]
    }
   ],
   "source": [
    "predictions = log_model.predict(X_test_sc)\n",
    "  \n",
    "# print classification report\n",
    "print(classification_report(y_test, predictions))"
   ]
  },
  {
   "cell_type": "markdown",
   "metadata": {},
   "source": [
    "# SECOND LOG REG MODEL USING SMOTE"
   ]
  },
  {
   "cell_type": "code",
   "execution_count": 26,
   "metadata": {},
   "outputs": [
    {
     "name": "stdout",
     "output_type": "stream",
     "text": [
      "Before OverSampling, counts of label '1': 361\n",
      "Before OverSampling, counts of label '0': 2138 \n",
      "\n",
      "After OverSampling, the shape of train_X: (4276, 16)\n",
      "After OverSampling, the shape of train_y: (4276,) \n",
      "\n",
      "After OverSampling, counts of label '1': 2138\n",
      "After OverSampling, counts of label '0': 2138\n"
     ]
    }
   ],
   "source": [
    "print(\"Before OverSampling, counts of label '1': {}\".format(sum(y_train == 1)))\n",
    "print(\"Before OverSampling, counts of label '0': {} \\n\".format(sum(y_train == 0)))\n",
    "  \n",
    "# Using SMOTE to balance data\n",
    "sm = SMOTE(random_state = 2)\n",
    "X_train_res, y_train_res = sm.fit_sample(X_train_sc, y_train)\n",
    "  \n",
    "print('After OverSampling, the shape of train_X: {}'.format(X_train_res.shape))\n",
    "print('After OverSampling, the shape of train_y: {} \\n'.format(y_train_res.shape))\n",
    "  \n",
    "print(\"After OverSampling, counts of label '1': {}\".format(sum(y_train_res == 1)))\n",
    "print(\"After OverSampling, counts of label '0': {}\".format(sum(y_train_res == 0)))"
   ]
  },
  {
   "cell_type": "code",
   "execution_count": 27,
   "metadata": {},
   "outputs": [
    {
     "name": "stdout",
     "output_type": "stream",
     "text": [
      "              precision    recall  f1-score   support\n",
      "\n",
      "           0       0.94      0.76      0.84       712\n",
      "           1       0.34      0.72      0.46       122\n",
      "\n",
      "    accuracy                           0.76       834\n",
      "   macro avg       0.64      0.74      0.65       834\n",
      "weighted avg       0.85      0.76      0.79       834\n",
      "\n"
     ]
    }
   ],
   "source": [
    "log_model_bal = LogisticRegression(random_state=42)\n",
    "log_model_bal.fit(X_train_res, y_train_res)\n",
    "predictions = log_model_bal.predict(X_test_sc)\n",
    "  \n",
    "# print classification report\n",
    "print(classification_report(y_test, predictions))"
   ]
  },
  {
   "cell_type": "markdown",
   "metadata": {},
   "source": [
    "# USING GRIDSEARCH TO REFINE HYPERPARAMETERS"
   ]
  },
  {
   "cell_type": "code",
   "execution_count": 28,
   "metadata": {},
   "outputs": [
    {
     "data": {
      "text/plain": [
       "GridSearchCV(cv=10, estimator=LogisticRegression(),\n",
       "             param_grid={'C': array([1.e-03, 1.e-02, 1.e-01, 1.e+00, 1.e+01, 1.e+02, 1.e+03]),\n",
       "                         'penalty': ['l1', 'l2'],\n",
       "                         'solver': ['newton-cg', 'lbfgs', 'liblinear']},\n",
       "             scoring='accuracy')"
      ]
     },
     "execution_count": 28,
     "metadata": {},
     "output_type": "execute_result"
    }
   ],
   "source": [
    "import warnings\n",
    "warnings.filterwarnings('ignore')\n",
    "\n",
    "# parameter grid\n",
    "parameters = {\n",
    "    'penalty' : ['l1','l2'], \n",
    "    'C'       : np.logspace(-3,3,7),\n",
    "    'solver'  : ['newton-cg', 'lbfgs', 'liblinear'],\n",
    "}\n",
    "\n",
    "logreg = LogisticRegression()\n",
    "clf = GridSearchCV(logreg,                    # model\n",
    "                   param_grid = parameters,   # hyperparameters\n",
    "                   scoring='accuracy',        # metric for scoring\n",
    "                   cv=10)                     # number of folds\n",
    "\n",
    "# Fit the model on scaled training data\n",
    "clf.fit(X_train_sc, y_train)"
   ]
  },
  {
   "cell_type": "code",
   "execution_count": 29,
   "metadata": {},
   "outputs": [
    {
     "name": "stdout",
     "output_type": "stream",
     "text": [
      "Tuned Hyperparameters : {'C': 0.01, 'penalty': 'l2', 'solver': 'newton-cg'}\n",
      "Accuracy : 0.8643469879518072\n"
     ]
    }
   ],
   "source": [
    "print(\"Tuned Hyperparameters :\", clf.best_params_)\n",
    "print(\"Accuracy :\",clf.best_score_)"
   ]
  },
  {
   "cell_type": "markdown",
   "metadata": {},
   "source": [
    "# LOG REG MODEL WITH TUNED HYPERPARAMETERS"
   ]
  },
  {
   "cell_type": "code",
   "execution_count": 30,
   "metadata": {},
   "outputs": [
    {
     "name": "stdout",
     "output_type": "stream",
     "text": [
      "Accuracy: 0.8561151079136691\n",
      "              precision    recall  f1-score   support\n",
      "\n",
      "           0       0.86      0.99      0.92       712\n",
      "           1       0.55      0.09      0.15       122\n",
      "\n",
      "    accuracy                           0.86       834\n",
      "   macro avg       0.71      0.54      0.54       834\n",
      "weighted avg       0.82      0.86      0.81       834\n",
      "\n"
     ]
    }
   ],
   "source": [
    "logreg = LogisticRegression(C = 0.01, \n",
    "                            penalty = 'l2', \n",
    "                            solver = 'newton-cg')\n",
    "logreg.fit(X_train_sc, y_train)\n",
    "y_pred = logreg.predict(X_test_sc)\n",
    "\n",
    "# print accuracy and classification report\n",
    "print(\"Accuracy:\",logreg.score(X_test_sc, y_test))\n",
    "print(classification_report(y_test, y_pred))"
   ]
  },
  {
   "cell_type": "code",
   "execution_count": 31,
   "metadata": {},
   "outputs": [
    {
     "name": "stdout",
     "output_type": "stream",
     "text": [
      "\n",
      " confussion matrix :\n",
      " [[703   9]\n",
      " [111  11]]\n"
     ]
    }
   ],
   "source": [
    "print ('\\n confussion matrix :\\n',confusion_matrix(y_test, y_pred))"
   ]
  },
  {
   "cell_type": "markdown",
   "metadata": {},
   "source": [
    "# GRIDSEARCH ON ENTIRE DATASET"
   ]
  },
  {
   "cell_type": "code",
   "execution_count": 32,
   "metadata": {},
   "outputs": [
    {
     "data": {
      "text/plain": [
       "GridSearchCV(cv=10, estimator=LogisticRegression(),\n",
       "             param_grid={'C': array([1.e-03, 1.e-02, 1.e-01, 1.e+00, 1.e+01, 1.e+02, 1.e+03]),\n",
       "                         'penalty': ['l1', 'l2'],\n",
       "                         'solver': ['newton-cg', 'lbfgs', 'liblinear']},\n",
       "             scoring='accuracy')"
      ]
     },
     "execution_count": 32,
     "metadata": {},
     "output_type": "execute_result"
    }
   ],
   "source": [
    "# Separate data into feature and target DataFrames\n",
    "X = df_clean.drop(columns = ['churn', 'state', 'total day minutes'], axis = 1)\n",
    "y = df_clean['churn']\n",
    "\n",
    "parameters = {\n",
    "    'penalty' : ['l1','l2'], \n",
    "    'C'       : np.logspace(-3,3,7),\n",
    "    'solver'  : ['newton-cg', 'lbfgs', 'liblinear'],\n",
    "}\n",
    "logreg = LogisticRegression()\n",
    "clf = GridSearchCV(logreg, \n",
    "                   param_grid = parameters,\n",
    "                   scoring = 'accuracy', \n",
    "                   cv = 10)\n",
    "clf.fit(X,y)"
   ]
  },
  {
   "cell_type": "code",
   "execution_count": 33,
   "metadata": {},
   "outputs": [
    {
     "name": "stdout",
     "output_type": "stream",
     "text": [
      "Tuned Hyperparameters : {'C': 0.1, 'penalty': 'l2', 'solver': 'newton-cg'}\n",
      "Accuracy : 0.8619850389311468\n"
     ]
    }
   ],
   "source": [
    "print(\"Tuned Hyperparameters :\", clf.best_params_)\n",
    "print(\"Accuracy :\",clf.best_score_)"
   ]
  },
  {
   "cell_type": "markdown",
   "metadata": {},
   "source": [
    "# BUILDING FINAL MODEL WITH SCALED & BALANCED DATA AND TUNED HYPERPARAMETERS"
   ]
  },
  {
   "cell_type": "code",
   "execution_count": 34,
   "metadata": {},
   "outputs": [
    {
     "data": {
      "text/plain": [
       "LogisticRegression(penalty='l1', random_state=42, solver='liblinear')"
      ]
     },
     "execution_count": 34,
     "metadata": {},
     "output_type": "execute_result"
    }
   ],
   "source": [
    "# Separate data into feature and target DataFrames\n",
    "X = df_clean.drop(columns = ['churn', 'state', 'total day minutes'], axis = 1)\n",
    "y = df_clean['churn']\n",
    "\n",
    "# Split data into train and test sets\n",
    "X_train, X_test, y_train, y_test = train_test_split(X, y, test_size=.25, random_state=1)\n",
    "\n",
    "# Scale the data for Logistic Regression modeling\n",
    "scaler = StandardScaler()\n",
    "scaler.fit(X_train)\n",
    "X_train_sc = scaler.transform(X_train)\n",
    "X_test_sc = scaler.transform(X_test)\n",
    "\n",
    "# Using SMOTE to balance data\n",
    "sm = SMOTE(random_state = 2)\n",
    "X_train_res, y_train_res = sm.fit_sample(X_train_sc, y_train)\n",
    "\n",
    "log_model_final = LogisticRegression(C = 1.0, \n",
    "                            penalty = 'l1', \n",
    "                            solver = 'liblinear',\n",
    "                            random_state=42)\n",
    "log_model_final.fit(X_train_res, y_train_res)"
   ]
  },
  {
   "cell_type": "code",
   "execution_count": 35,
   "metadata": {},
   "outputs": [
    {
     "name": "stdout",
     "output_type": "stream",
     "text": [
      "              precision    recall  f1-score   support\n",
      "\n",
      "           0       0.94      0.76      0.84       712\n",
      "           1       0.34      0.72      0.46       122\n",
      "\n",
      "    accuracy                           0.76       834\n",
      "   macro avg       0.64      0.74      0.65       834\n",
      "weighted avg       0.85      0.76      0.79       834\n",
      "\n",
      "\n",
      " confusion matrix :\n",
      " [[542 170]\n",
      " [ 34  88]]\n"
     ]
    }
   ],
   "source": [
    "# Evaluation metrics\n",
    "\n",
    "y_pred = log_model_final.predict(X_test_sc)\n",
    "\n",
    "print(classification_report(y_test, y_pred))\n",
    "print ('\\n confusion matrix :\\n',confusion_matrix(y_test, y_pred))"
   ]
  },
  {
   "cell_type": "markdown",
   "metadata": {},
   "source": [
    "The final model is fairly accurate and has the highest recall score among our logistic regression models."
   ]
  },
  {
   "cell_type": "code",
   "execution_count": 36,
   "metadata": {},
   "outputs": [
    {
     "data": {
      "text/html": [
       "<div>\n",
       "<style scoped>\n",
       "    .dataframe tbody tr th:only-of-type {\n",
       "        vertical-align: middle;\n",
       "    }\n",
       "\n",
       "    .dataframe tbody tr th {\n",
       "        vertical-align: top;\n",
       "    }\n",
       "\n",
       "    .dataframe thead th {\n",
       "        text-align: right;\n",
       "    }\n",
       "</style>\n",
       "<table border=\"1\" class=\"dataframe\">\n",
       "  <thead>\n",
       "    <tr style=\"text-align: right;\">\n",
       "      <th></th>\n",
       "      <th>coef</th>\n",
       "    </tr>\n",
       "  </thead>\n",
       "  <tbody>\n",
       "    <tr>\n",
       "      <th>customer service calls</th>\n",
       "      <td>0.956576</td>\n",
       "    </tr>\n",
       "    <tr>\n",
       "      <th>total day charge</th>\n",
       "      <td>0.819989</td>\n",
       "    </tr>\n",
       "    <tr>\n",
       "      <th>international plan</th>\n",
       "      <td>0.699781</td>\n",
       "    </tr>\n",
       "    <tr>\n",
       "      <th>number vmail messages</th>\n",
       "      <td>0.417200</td>\n",
       "    </tr>\n",
       "    <tr>\n",
       "      <th>total eve minutes</th>\n",
       "      <td>0.304439</td>\n",
       "    </tr>\n",
       "    <tr>\n",
       "      <th>total intl charge</th>\n",
       "      <td>0.217158</td>\n",
       "    </tr>\n",
       "    <tr>\n",
       "      <th>total night charge</th>\n",
       "      <td>0.139333</td>\n",
       "    </tr>\n",
       "    <tr>\n",
       "      <th>total night minutes</th>\n",
       "      <td>0.113749</td>\n",
       "    </tr>\n",
       "    <tr>\n",
       "      <th>total eve calls</th>\n",
       "      <td>0.080653</td>\n",
       "    </tr>\n",
       "    <tr>\n",
       "      <th>total eve charge</th>\n",
       "      <td>0.077481</td>\n",
       "    </tr>\n",
       "    <tr>\n",
       "      <th>total day calls</th>\n",
       "      <td>0.055437</td>\n",
       "    </tr>\n",
       "    <tr>\n",
       "      <th>account length</th>\n",
       "      <td>0.047739</td>\n",
       "    </tr>\n",
       "    <tr>\n",
       "      <th>total intl minutes</th>\n",
       "      <td>0.000000</td>\n",
       "    </tr>\n",
       "    <tr>\n",
       "      <th>total night calls</th>\n",
       "      <td>-0.043525</td>\n",
       "    </tr>\n",
       "    <tr>\n",
       "      <th>total intl calls</th>\n",
       "      <td>-0.329726</td>\n",
       "    </tr>\n",
       "    <tr>\n",
       "      <th>voice mail plan</th>\n",
       "      <td>-0.782896</td>\n",
       "    </tr>\n",
       "  </tbody>\n",
       "</table>\n",
       "</div>"
      ],
      "text/plain": [
       "                            coef\n",
       "customer service calls  0.956576\n",
       "total day charge        0.819989\n",
       "international plan      0.699781\n",
       "number vmail messages   0.417200\n",
       "total eve minutes       0.304439\n",
       "total intl charge       0.217158\n",
       "total night charge      0.139333\n",
       "total night minutes     0.113749\n",
       "total eve calls         0.080653\n",
       "total eve charge        0.077481\n",
       "total day calls         0.055437\n",
       "account length          0.047739\n",
       "total intl minutes      0.000000\n",
       "total night calls      -0.043525\n",
       "total intl calls       -0.329726\n",
       "voice mail plan        -0.782896"
      ]
     },
     "execution_count": 36,
     "metadata": {},
     "output_type": "execute_result"
    }
   ],
   "source": [
    "log_odds = log_model_final.coef_[0]\n",
    "pd.DataFrame(log_odds, \n",
    "             X.columns, \n",
    "             columns=['coef'])\\\n",
    "            .sort_values(by='coef', ascending=False)"
   ]
  },
  {
   "cell_type": "markdown",
   "metadata": {},
   "source": [
    "Because of the logit function, logistic regression coefficients represent the log odds that an observation is in the target class (“1”) given the values of its X variables. Thus, these log odd coefficients need to be converted to regular odds in order to make sense of them."
   ]
  },
  {
   "cell_type": "code",
   "execution_count": 37,
   "metadata": {},
   "outputs": [
    {
     "data": {
      "text/html": [
       "<div>\n",
       "<style scoped>\n",
       "    .dataframe tbody tr th:only-of-type {\n",
       "        vertical-align: middle;\n",
       "    }\n",
       "\n",
       "    .dataframe tbody tr th {\n",
       "        vertical-align: top;\n",
       "    }\n",
       "\n",
       "    .dataframe thead th {\n",
       "        text-align: right;\n",
       "    }\n",
       "</style>\n",
       "<table border=\"1\" class=\"dataframe\">\n",
       "  <thead>\n",
       "    <tr style=\"text-align: right;\">\n",
       "      <th></th>\n",
       "      <th>index</th>\n",
       "      <th>coef</th>\n",
       "    </tr>\n",
       "  </thead>\n",
       "  <tbody>\n",
       "    <tr>\n",
       "      <th>0</th>\n",
       "      <td>customer service calls</td>\n",
       "      <td>2.602770</td>\n",
       "    </tr>\n",
       "    <tr>\n",
       "      <th>1</th>\n",
       "      <td>total day charge</td>\n",
       "      <td>2.270475</td>\n",
       "    </tr>\n",
       "    <tr>\n",
       "      <th>2</th>\n",
       "      <td>international plan</td>\n",
       "      <td>2.013312</td>\n",
       "    </tr>\n",
       "    <tr>\n",
       "      <th>3</th>\n",
       "      <td>number vmail messages</td>\n",
       "      <td>1.517706</td>\n",
       "    </tr>\n",
       "    <tr>\n",
       "      <th>4</th>\n",
       "      <td>total eve minutes</td>\n",
       "      <td>1.355864</td>\n",
       "    </tr>\n",
       "    <tr>\n",
       "      <th>5</th>\n",
       "      <td>total intl charge</td>\n",
       "      <td>1.242540</td>\n",
       "    </tr>\n",
       "    <tr>\n",
       "      <th>6</th>\n",
       "      <td>total night charge</td>\n",
       "      <td>1.149507</td>\n",
       "    </tr>\n",
       "    <tr>\n",
       "      <th>7</th>\n",
       "      <td>total night minutes</td>\n",
       "      <td>1.120471</td>\n",
       "    </tr>\n",
       "    <tr>\n",
       "      <th>8</th>\n",
       "      <td>total eve calls</td>\n",
       "      <td>1.083995</td>\n",
       "    </tr>\n",
       "    <tr>\n",
       "      <th>9</th>\n",
       "      <td>total eve charge</td>\n",
       "      <td>1.080562</td>\n",
       "    </tr>\n",
       "    <tr>\n",
       "      <th>10</th>\n",
       "      <td>total day calls</td>\n",
       "      <td>1.057003</td>\n",
       "    </tr>\n",
       "    <tr>\n",
       "      <th>11</th>\n",
       "      <td>account length</td>\n",
       "      <td>1.048897</td>\n",
       "    </tr>\n",
       "    <tr>\n",
       "      <th>12</th>\n",
       "      <td>total intl minutes</td>\n",
       "      <td>1.000000</td>\n",
       "    </tr>\n",
       "    <tr>\n",
       "      <th>13</th>\n",
       "      <td>total night calls</td>\n",
       "      <td>0.957408</td>\n",
       "    </tr>\n",
       "    <tr>\n",
       "      <th>14</th>\n",
       "      <td>total intl calls</td>\n",
       "      <td>0.719121</td>\n",
       "    </tr>\n",
       "    <tr>\n",
       "      <th>15</th>\n",
       "      <td>voice mail plan</td>\n",
       "      <td>0.457080</td>\n",
       "    </tr>\n",
       "  </tbody>\n",
       "</table>\n",
       "</div>"
      ],
      "text/plain": [
       "                     index      coef\n",
       "0   customer service calls  2.602770\n",
       "1         total day charge  2.270475\n",
       "2       international plan  2.013312\n",
       "3    number vmail messages  1.517706\n",
       "4        total eve minutes  1.355864\n",
       "5        total intl charge  1.242540\n",
       "6       total night charge  1.149507\n",
       "7      total night minutes  1.120471\n",
       "8          total eve calls  1.083995\n",
       "9         total eve charge  1.080562\n",
       "10         total day calls  1.057003\n",
       "11          account length  1.048897\n",
       "12      total intl minutes  1.000000\n",
       "13       total night calls  0.957408\n",
       "14        total intl calls  0.719121\n",
       "15         voice mail plan  0.457080"
      ]
     },
     "execution_count": 37,
     "metadata": {},
     "output_type": "execute_result"
    }
   ],
   "source": [
    "odds = np.exp(log_model_final.coef_[0])\n",
    "odds_chart = pd.DataFrame(odds, \n",
    "                          X.columns, \n",
    "                          columns=['coef'])\\\n",
    "                          .sort_values(by='coef', ascending=False)\n",
    "\n",
    "odds_chart.reset_index(drop=False, inplace=True)\n",
    "odds_chart"
   ]
  },
  {
   "cell_type": "code",
   "execution_count": 38,
   "metadata": {},
   "outputs": [
    {
     "data": {
      "image/png": "[encoded data removed]",
      "text/plain": [
       "<Figure size 864x720 with 1 Axes>"
      ]
     },
     "metadata": {},
     "output_type": "display_data"
    }
   ],
   "source": [
    "# Plot the Total Sum of Account Lengths by Customer Service Calls\n",
    "import textwrap\n",
    "\n",
    "fig, ax = plt.subplots(figsize = (12 , 10))\n",
    "\n",
    "fig = sns.barplot(data = odds_chart.head(),\n",
    "                  x = 'index',\n",
    "                  y = 'coef',\n",
    "                  color = 'royalblue',\n",
    "                  alpha=0.95)\n",
    "\n",
    "#plt.xlabel('Number of Customer Service Calls', size=20)\n",
    "labels = [textwrap.fill(label.get_text(), 15) for label in ax.get_xticklabels()]\n",
    "ax.set_xticklabels(labels);\n",
    "plt.xticks(fontsize=20)\n",
    "plt.ylabel('Likelihood of Churning for Each Unit Increase', size=22)\n",
    "plt.yticks(fontsize=20)\n",
    "#plt.title('Top 5 Factors in Customer Churn', size=20)\n",
    "plt.show(fig);"
   ]
  },
  {
   "cell_type": "markdown",
   "metadata": {},
   "source": [
    "# IDENTIFYING ATTRIBUTES OF CUSTOMERS MOST LIKELY TO CHURN\n",
    "\n",
    "Based on our model, we are able to retrospectively predict a probability that a customer would have churned. Those probabilities indicate behavioral threshholds that could mean that a customer is likely to churn."
   ]
  },
  {
   "cell_type": "code",
   "execution_count": 40,
   "metadata": {},
   "outputs": [],
   "source": [
    "# new data frame with our top 5 variables of interest\n",
    "\n",
    "final_results = X_test.copy()\n",
    "\n",
    "final_results = pd.concat([final_results, y_test], axis=1)\n",
    "final_results = pd.DataFrame(final_results)\n",
    "final_results = final_results[['customer service calls', \n",
    "                               'total day charge', \n",
    "                               'international plan', \n",
    "                               'number vmail messages',\n",
    "                               'voice mail plan',\n",
    "                               'total eve charge', \n",
    "                               'total intl charge',\n",
    "                              ]]"
   ]
  },
  {
   "cell_type": "code",
   "execution_count": 41,
   "metadata": {},
   "outputs": [],
   "source": [
    "#probability score for each customer\n",
    "y_pred_probs = log_model_final.predict_proba(X_test_sc)\n",
    "y_pred_probs = y_pred_probs [:, 1]"
   ]
  },
  {
   "cell_type": "code",
   "execution_count": 42,
   "metadata": {},
   "outputs": [
    {
     "data": {
      "text/html": [
       "<div>\n",
       "<style scoped>\n",
       "    .dataframe tbody tr th:only-of-type {\n",
       "        vertical-align: middle;\n",
       "    }\n",
       "\n",
       "    .dataframe tbody tr th {\n",
       "        vertical-align: top;\n",
       "    }\n",
       "\n",
       "    .dataframe thead th {\n",
       "        text-align: right;\n",
       "    }\n",
       "</style>\n",
       "<table border=\"1\" class=\"dataframe\">\n",
       "  <thead>\n",
       "    <tr style=\"text-align: right;\">\n",
       "      <th></th>\n",
       "      <th>customer service calls</th>\n",
       "      <th>total day charge</th>\n",
       "      <th>international plan</th>\n",
       "      <th>number vmail messages</th>\n",
       "      <th>voice mail plan</th>\n",
       "      <th>total eve charge</th>\n",
       "      <th>total intl charge</th>\n",
       "      <th>predictions</th>\n",
       "      <th>propensity to churn %</th>\n",
       "    </tr>\n",
       "  </thead>\n",
       "  <tbody>\n",
       "    <tr>\n",
       "      <th>2360</th>\n",
       "      <td>2</td>\n",
       "      <td>37.76</td>\n",
       "      <td>0</td>\n",
       "      <td>0</td>\n",
       "      <td>0</td>\n",
       "      <td>16.95</td>\n",
       "      <td>2.54</td>\n",
       "      <td>1</td>\n",
       "      <td>0.536502</td>\n",
       "    </tr>\n",
       "    <tr>\n",
       "      <th>600</th>\n",
       "      <td>2</td>\n",
       "      <td>17.44</td>\n",
       "      <td>0</td>\n",
       "      <td>0</td>\n",
       "      <td>0</td>\n",
       "      <td>20.91</td>\n",
       "      <td>2.46</td>\n",
       "      <td>0</td>\n",
       "      <td>0.166838</td>\n",
       "    </tr>\n",
       "    <tr>\n",
       "      <th>1501</th>\n",
       "      <td>0</td>\n",
       "      <td>46.31</td>\n",
       "      <td>0</td>\n",
       "      <td>0</td>\n",
       "      <td>0</td>\n",
       "      <td>9.17</td>\n",
       "      <td>3.43</td>\n",
       "      <td>0</td>\n",
       "      <td>0.346495</td>\n",
       "    </tr>\n",
       "    <tr>\n",
       "      <th>1114</th>\n",
       "      <td>1</td>\n",
       "      <td>28.07</td>\n",
       "      <td>0</td>\n",
       "      <td>15</td>\n",
       "      <td>1</td>\n",
       "      <td>22.70</td>\n",
       "      <td>2.94</td>\n",
       "      <td>0</td>\n",
       "      <td>0.131649</td>\n",
       "    </tr>\n",
       "    <tr>\n",
       "      <th>517</th>\n",
       "      <td>2</td>\n",
       "      <td>36.50</td>\n",
       "      <td>0</td>\n",
       "      <td>0</td>\n",
       "      <td>0</td>\n",
       "      <td>13.48</td>\n",
       "      <td>2.54</td>\n",
       "      <td>0</td>\n",
       "      <td>0.354584</td>\n",
       "    </tr>\n",
       "  </tbody>\n",
       "</table>\n",
       "</div>"
      ],
      "text/plain": [
       "      customer service calls  total day charge  international plan  \\\n",
       "2360                       2             37.76                   0   \n",
       "600                        2             17.44                   0   \n",
       "1501                       0             46.31                   0   \n",
       "1114                       1             28.07                   0   \n",
       "517                        2             36.50                   0   \n",
       "\n",
       "      number vmail messages  voice mail plan  total eve charge  \\\n",
       "2360                      0                0             16.95   \n",
       "600                       0                0             20.91   \n",
       "1501                      0                0              9.17   \n",
       "1114                     15                1             22.70   \n",
       "517                       0                0             13.48   \n",
       "\n",
       "      total intl charge  predictions  propensity to churn %  \n",
       "2360               2.54            1               0.536502  \n",
       "600                2.46            0               0.166838  \n",
       "1501               3.43            0               0.346495  \n",
       "1114               2.94            0               0.131649  \n",
       "517                2.54            0               0.354584  "
      ]
     },
     "execution_count": 42,
     "metadata": {},
     "output_type": "execute_result"
    }
   ],
   "source": [
    "#adding our predictions and the scores to the data frame\n",
    "final_results['predictions'] = y_pred\n",
    "final_results[\"propensity to churn %\"] = y_pred_probs\n",
    "\n",
    "final_results.head()"
   ]
  },
  {
   "cell_type": "code",
   "execution_count": 43,
   "metadata": {},
   "outputs": [
    {
     "data": {
      "text/html": [
       "<div>\n",
       "<style scoped>\n",
       "    .dataframe tbody tr th:only-of-type {\n",
       "        vertical-align: middle;\n",
       "    }\n",
       "\n",
       "    .dataframe tbody tr th {\n",
       "        vertical-align: top;\n",
       "    }\n",
       "\n",
       "    .dataframe thead th {\n",
       "        text-align: right;\n",
       "    }\n",
       "</style>\n",
       "<table border=\"1\" class=\"dataframe\">\n",
       "  <thead>\n",
       "    <tr style=\"text-align: right;\">\n",
       "      <th></th>\n",
       "      <th>customer service calls</th>\n",
       "      <th>total day charge</th>\n",
       "      <th>international plan</th>\n",
       "      <th>number vmail messages</th>\n",
       "      <th>voice mail plan</th>\n",
       "      <th>total eve charge</th>\n",
       "      <th>total intl charge</th>\n",
       "      <th>predictions</th>\n",
       "      <th>propensity to churn %</th>\n",
       "      <th>ranking</th>\n",
       "    </tr>\n",
       "  </thead>\n",
       "  <tbody>\n",
       "    <tr>\n",
       "      <th>2360</th>\n",
       "      <td>2</td>\n",
       "      <td>37.76</td>\n",
       "      <td>0</td>\n",
       "      <td>0</td>\n",
       "      <td>0</td>\n",
       "      <td>16.95</td>\n",
       "      <td>2.54</td>\n",
       "      <td>1</td>\n",
       "      <td>53.65</td>\n",
       "      <td>3</td>\n",
       "    </tr>\n",
       "    <tr>\n",
       "      <th>600</th>\n",
       "      <td>2</td>\n",
       "      <td>17.44</td>\n",
       "      <td>0</td>\n",
       "      <td>0</td>\n",
       "      <td>0</td>\n",
       "      <td>20.91</td>\n",
       "      <td>2.46</td>\n",
       "      <td>0</td>\n",
       "      <td>16.68</td>\n",
       "      <td>7</td>\n",
       "    </tr>\n",
       "    <tr>\n",
       "      <th>1501</th>\n",
       "      <td>0</td>\n",
       "      <td>46.31</td>\n",
       "      <td>0</td>\n",
       "      <td>0</td>\n",
       "      <td>0</td>\n",
       "      <td>9.17</td>\n",
       "      <td>3.43</td>\n",
       "      <td>0</td>\n",
       "      <td>34.65</td>\n",
       "      <td>5</td>\n",
       "    </tr>\n",
       "    <tr>\n",
       "      <th>1114</th>\n",
       "      <td>1</td>\n",
       "      <td>28.07</td>\n",
       "      <td>0</td>\n",
       "      <td>15</td>\n",
       "      <td>1</td>\n",
       "      <td>22.70</td>\n",
       "      <td>2.94</td>\n",
       "      <td>0</td>\n",
       "      <td>13.16</td>\n",
       "      <td>8</td>\n",
       "    </tr>\n",
       "    <tr>\n",
       "      <th>517</th>\n",
       "      <td>2</td>\n",
       "      <td>36.50</td>\n",
       "      <td>0</td>\n",
       "      <td>0</td>\n",
       "      <td>0</td>\n",
       "      <td>13.48</td>\n",
       "      <td>2.54</td>\n",
       "      <td>0</td>\n",
       "      <td>35.46</td>\n",
       "      <td>5</td>\n",
       "    </tr>\n",
       "  </tbody>\n",
       "</table>\n",
       "</div>"
      ],
      "text/plain": [
       "      customer service calls  total day charge  international plan  \\\n",
       "2360                       2             37.76                   0   \n",
       "600                        2             17.44                   0   \n",
       "1501                       0             46.31                   0   \n",
       "1114                       1             28.07                   0   \n",
       "517                        2             36.50                   0   \n",
       "\n",
       "      number vmail messages  voice mail plan  total eve charge  \\\n",
       "2360                      0                0             16.95   \n",
       "600                       0                0             20.91   \n",
       "1501                      0                0              9.17   \n",
       "1114                     15                1             22.70   \n",
       "517                       0                0             13.48   \n",
       "\n",
       "      total intl charge  predictions  propensity to churn % ranking  \n",
       "2360               2.54            1                  53.65       3  \n",
       "600                2.46            0                  16.68       7  \n",
       "1501               3.43            0                  34.65       5  \n",
       "1114               2.94            0                  13.16       8  \n",
       "517                2.54            0                  35.46       5  "
      ]
     },
     "execution_count": 43,
     "metadata": {},
     "output_type": "execute_result"
    }
   ],
   "source": [
    "#calculating probability for a customer's propensity to churn\n",
    "final_results['propensity to churn %'] = final_results[\"propensity to churn %\"]*100\n",
    "final_results[\"propensity to churn %\"]=final_results[\"propensity to churn %\"].round(2)\n",
    "\n",
    "#ranking those customers likely to churn by priority 1 through 10\n",
    "\n",
    "final_results ['ranking'] = pd.qcut(final_results['propensity to churn %'].rank(method = 'first'),10,labels=range(10,0,-1))\n",
    "final_results.head()"
   ]
  },
  {
   "cell_type": "code",
   "execution_count": 44,
   "metadata": {
    "scrolled": false
   },
   "outputs": [
    {
     "data": {
      "text/html": [
       "<div>\n",
       "<style scoped>\n",
       "    .dataframe tbody tr th:only-of-type {\n",
       "        vertical-align: middle;\n",
       "    }\n",
       "\n",
       "    .dataframe tbody tr th {\n",
       "        vertical-align: top;\n",
       "    }\n",
       "\n",
       "    .dataframe thead th {\n",
       "        text-align: right;\n",
       "    }\n",
       "</style>\n",
       "<table border=\"1\" class=\"dataframe\">\n",
       "  <thead>\n",
       "    <tr style=\"text-align: right;\">\n",
       "      <th></th>\n",
       "      <th>customer service calls</th>\n",
       "      <th>total day charge</th>\n",
       "      <th>international plan</th>\n",
       "      <th>number vmail messages</th>\n",
       "      <th>voice mail plan</th>\n",
       "      <th>total eve charge</th>\n",
       "      <th>total intl charge</th>\n",
       "      <th>predictions</th>\n",
       "      <th>propensity to churn %</th>\n",
       "      <th>ranking</th>\n",
       "    </tr>\n",
       "  </thead>\n",
       "  <tbody>\n",
       "    <tr>\n",
       "      <th>2732</th>\n",
       "      <td>5</td>\n",
       "      <td>36.75</td>\n",
       "      <td>1</td>\n",
       "      <td>0</td>\n",
       "      <td>0</td>\n",
       "      <td>30.91</td>\n",
       "      <td>4.56</td>\n",
       "      <td>1</td>\n",
       "      <td>99.83</td>\n",
       "      <td>1</td>\n",
       "    </tr>\n",
       "    <tr>\n",
       "      <th>2380</th>\n",
       "      <td>9</td>\n",
       "      <td>38.86</td>\n",
       "      <td>0</td>\n",
       "      <td>0</td>\n",
       "      <td>0</td>\n",
       "      <td>11.29</td>\n",
       "      <td>2.73</td>\n",
       "      <td>1</td>\n",
       "      <td>99.56</td>\n",
       "      <td>1</td>\n",
       "    </tr>\n",
       "    <tr>\n",
       "      <th>2139</th>\n",
       "      <td>3</td>\n",
       "      <td>42.89</td>\n",
       "      <td>1</td>\n",
       "      <td>0</td>\n",
       "      <td>0</td>\n",
       "      <td>17.60</td>\n",
       "      <td>3.24</td>\n",
       "      <td>1</td>\n",
       "      <td>98.84</td>\n",
       "      <td>1</td>\n",
       "    </tr>\n",
       "    <tr>\n",
       "      <th>3304</th>\n",
       "      <td>4</td>\n",
       "      <td>31.64</td>\n",
       "      <td>1</td>\n",
       "      <td>0</td>\n",
       "      <td>0</td>\n",
       "      <td>16.88</td>\n",
       "      <td>3.73</td>\n",
       "      <td>1</td>\n",
       "      <td>98.14</td>\n",
       "      <td>1</td>\n",
       "    </tr>\n",
       "    <tr>\n",
       "      <th>351</th>\n",
       "      <td>4</td>\n",
       "      <td>37.42</td>\n",
       "      <td>1</td>\n",
       "      <td>38</td>\n",
       "      <td>1</td>\n",
       "      <td>19.92</td>\n",
       "      <td>2.73</td>\n",
       "      <td>1</td>\n",
       "      <td>97.98</td>\n",
       "      <td>1</td>\n",
       "    </tr>\n",
       "  </tbody>\n",
       "</table>\n",
       "</div>"
      ],
      "text/plain": [
       "      customer service calls  total day charge  international plan  \\\n",
       "2732                       5             36.75                   1   \n",
       "2380                       9             38.86                   0   \n",
       "2139                       3             42.89                   1   \n",
       "3304                       4             31.64                   1   \n",
       "351                        4             37.42                   1   \n",
       "\n",
       "      number vmail messages  voice mail plan  total eve charge  \\\n",
       "2732                      0                0             30.91   \n",
       "2380                      0                0             11.29   \n",
       "2139                      0                0             17.60   \n",
       "3304                      0                0             16.88   \n",
       "351                      38                1             19.92   \n",
       "\n",
       "      total intl charge  predictions  propensity to churn % ranking  \n",
       "2732               4.56            1                  99.83       1  \n",
       "2380               2.73            1                  99.56       1  \n",
       "2139               3.24            1                  98.84       1  \n",
       "3304               3.73            1                  98.14       1  \n",
       "351                2.73            1                  97.98       1  "
      ]
     },
     "execution_count": 44,
     "metadata": {},
     "output_type": "execute_result"
    }
   ],
   "source": [
    "#new df with only priority 1 customers\n",
    "priority1 = final_results[(final_results['ranking'] == 1)]\n",
    "pd.set_option('display.max_rows', None)\n",
    "priority1.sort_values(by=['propensity to churn %'], ascending=False).head()"
   ]
  },
  {
   "cell_type": "code",
   "execution_count": 45,
   "metadata": {
    "scrolled": true
   },
   "outputs": [
    {
     "data": {
      "text/html": [
       "<div>\n",
       "<style scoped>\n",
       "    .dataframe tbody tr th:only-of-type {\n",
       "        vertical-align: middle;\n",
       "    }\n",
       "\n",
       "    .dataframe tbody tr th {\n",
       "        vertical-align: top;\n",
       "    }\n",
       "\n",
       "    .dataframe thead th {\n",
       "        text-align: right;\n",
       "    }\n",
       "</style>\n",
       "<table border=\"1\" class=\"dataframe\">\n",
       "  <thead>\n",
       "    <tr style=\"text-align: right;\">\n",
       "      <th></th>\n",
       "      <th>customer service calls</th>\n",
       "      <th>total day charge</th>\n",
       "      <th>international plan</th>\n",
       "      <th>number vmail messages</th>\n",
       "      <th>voice mail plan</th>\n",
       "      <th>total eve charge</th>\n",
       "      <th>total intl charge</th>\n",
       "      <th>predictions</th>\n",
       "      <th>propensity to churn %</th>\n",
       "    </tr>\n",
       "  </thead>\n",
       "  <tbody>\n",
       "    <tr>\n",
       "      <th>count</th>\n",
       "      <td>84.000000</td>\n",
       "      <td>84.000000</td>\n",
       "      <td>84.000000</td>\n",
       "      <td>84.000000</td>\n",
       "      <td>84.000000</td>\n",
       "      <td>84.000000</td>\n",
       "      <td>84.000000</td>\n",
       "      <td>84.0</td>\n",
       "      <td>84.000000</td>\n",
       "    </tr>\n",
       "    <tr>\n",
       "      <th>mean</th>\n",
       "      <td>3.464286</td>\n",
       "      <td>35.985595</td>\n",
       "      <td>0.488095</td>\n",
       "      <td>6.714286</td>\n",
       "      <td>0.214286</td>\n",
       "      <td>17.178571</td>\n",
       "      <td>2.885357</td>\n",
       "      <td>1.0</td>\n",
       "      <td>89.064405</td>\n",
       "    </tr>\n",
       "    <tr>\n",
       "      <th>std</th>\n",
       "      <td>1.772932</td>\n",
       "      <td>9.561428</td>\n",
       "      <td>0.502860</td>\n",
       "      <td>13.322299</td>\n",
       "      <td>0.412790</td>\n",
       "      <td>4.569781</td>\n",
       "      <td>0.714594</td>\n",
       "      <td>0.0</td>\n",
       "      <td>5.991622</td>\n",
       "    </tr>\n",
       "    <tr>\n",
       "      <th>min</th>\n",
       "      <td>0.000000</td>\n",
       "      <td>12.040000</td>\n",
       "      <td>0.000000</td>\n",
       "      <td>0.000000</td>\n",
       "      <td>0.000000</td>\n",
       "      <td>5.170000</td>\n",
       "      <td>1.430000</td>\n",
       "      <td>1.0</td>\n",
       "      <td>79.160000</td>\n",
       "    </tr>\n",
       "    <tr>\n",
       "      <th>25%</th>\n",
       "      <td>2.000000</td>\n",
       "      <td>28.552500</td>\n",
       "      <td>0.000000</td>\n",
       "      <td>0.000000</td>\n",
       "      <td>0.000000</td>\n",
       "      <td>14.595000</td>\n",
       "      <td>2.365000</td>\n",
       "      <td>1.0</td>\n",
       "      <td>83.535000</td>\n",
       "    </tr>\n",
       "    <tr>\n",
       "      <th>50%</th>\n",
       "      <td>3.500000</td>\n",
       "      <td>36.685000</td>\n",
       "      <td>0.000000</td>\n",
       "      <td>0.000000</td>\n",
       "      <td>0.000000</td>\n",
       "      <td>17.740000</td>\n",
       "      <td>2.825000</td>\n",
       "      <td>1.0</td>\n",
       "      <td>89.710000</td>\n",
       "    </tr>\n",
       "    <tr>\n",
       "      <th>75%</th>\n",
       "      <td>5.000000</td>\n",
       "      <td>41.785000</td>\n",
       "      <td>1.000000</td>\n",
       "      <td>0.000000</td>\n",
       "      <td>0.000000</td>\n",
       "      <td>19.355000</td>\n",
       "      <td>3.327500</td>\n",
       "      <td>1.0</td>\n",
       "      <td>94.127500</td>\n",
       "    </tr>\n",
       "    <tr>\n",
       "      <th>max</th>\n",
       "      <td>9.000000</td>\n",
       "      <td>57.040000</td>\n",
       "      <td>1.000000</td>\n",
       "      <td>41.000000</td>\n",
       "      <td>1.000000</td>\n",
       "      <td>30.910000</td>\n",
       "      <td>4.560000</td>\n",
       "      <td>1.0</td>\n",
       "      <td>99.830000</td>\n",
       "    </tr>\n",
       "  </tbody>\n",
       "</table>\n",
       "</div>"
      ],
      "text/plain": [
       "       customer service calls  total day charge  international plan  \\\n",
       "count               84.000000         84.000000           84.000000   \n",
       "mean                 3.464286         35.985595            0.488095   \n",
       "std                  1.772932          9.561428            0.502860   \n",
       "min                  0.000000         12.040000            0.000000   \n",
       "25%                  2.000000         28.552500            0.000000   \n",
       "50%                  3.500000         36.685000            0.000000   \n",
       "75%                  5.000000         41.785000            1.000000   \n",
       "max                  9.000000         57.040000            1.000000   \n",
       "\n",
       "       number vmail messages  voice mail plan  total eve charge  \\\n",
       "count              84.000000        84.000000         84.000000   \n",
       "mean                6.714286         0.214286         17.178571   \n",
       "std                13.322299         0.412790          4.569781   \n",
       "min                 0.000000         0.000000          5.170000   \n",
       "25%                 0.000000         0.000000         14.595000   \n",
       "50%                 0.000000         0.000000         17.740000   \n",
       "75%                 0.000000         0.000000         19.355000   \n",
       "max                41.000000         1.000000         30.910000   \n",
       "\n",
       "       total intl charge  predictions  propensity to churn %  \n",
       "count          84.000000         84.0              84.000000  \n",
       "mean            2.885357          1.0              89.064405  \n",
       "std             0.714594          0.0               5.991622  \n",
       "min             1.430000          1.0              79.160000  \n",
       "25%             2.365000          1.0              83.535000  \n",
       "50%             2.825000          1.0              89.710000  \n",
       "75%             3.327500          1.0              94.127500  \n",
       "max             4.560000          1.0              99.830000  "
      ]
     },
     "execution_count": 45,
     "metadata": {},
     "output_type": "execute_result"
    }
   ],
   "source": [
    "#descriptive stats and visualization for priority 1 customers\n",
    "priority1.describe()"
   ]
  },
  {
   "cell_type": "code",
   "execution_count": 47,
   "metadata": {},
   "outputs": [
    {
     "data": {
      "image/png": "[encoded data removed]",
      "text/plain": [
       "<Figure size 432x288 with 1 Axes>"
      ]
     },
     "metadata": {},
     "output_type": "display_data"
    }
   ],
   "source": [
    "priority1['customer service calls'].plot(kind='hist');"
   ]
  },
  {
   "cell_type": "code",
   "execution_count": 48,
   "metadata": {},
   "outputs": [
    {
     "data": {
      "text/plain": [
       "count    84.000000\n",
       "mean      3.464286\n",
       "std       1.772932\n",
       "min       0.000000\n",
       "25%       2.000000\n",
       "50%       3.500000\n",
       "75%       5.000000\n",
       "max       9.000000\n",
       "Name: customer service calls, dtype: float64"
      ]
     },
     "execution_count": 48,
     "metadata": {},
     "output_type": "execute_result"
    }
   ],
   "source": [
    "priority1['customer service calls'].describe()"
   ]
  },
  {
   "cell_type": "code",
   "execution_count": 49,
   "metadata": {},
   "outputs": [
    {
     "data": {
      "text/plain": [
       "4    19\n",
       "3    17\n",
       "5    15\n",
       "2    14\n",
       "1     7\n",
       "6     5\n",
       "0     4\n",
       "9     1\n",
       "8     1\n",
       "7     1\n",
       "Name: customer service calls, dtype: int64"
      ]
     },
     "execution_count": 49,
     "metadata": {},
     "output_type": "execute_result"
    }
   ],
   "source": [
    "priority1['customer service calls'].value_counts()"
   ]
  },
  {
   "cell_type": "code",
   "execution_count": 50,
   "metadata": {},
   "outputs": [
    {
     "ename": "KeyError",
     "evalue": "'total day minutes'",
     "output_type": "error",
     "traceback": [
      "\u001b[0;31m---------------------------------------------------------------------------\u001b[0m",
      "\u001b[0;31mKeyError\u001b[0m                                  Traceback (most recent call last)",
      "\u001b[0;32m/opt/anaconda3/envs/learn-env/lib/python3.8/site-packages/pandas/core/indexes/base.py\u001b[0m in \u001b[0;36mget_loc\u001b[0;34m(self, key, method, tolerance)\u001b[0m\n\u001b[1;32m   2894\u001b[0m             \u001b[0;32mtry\u001b[0m\u001b[0;34m:\u001b[0m\u001b[0;34m\u001b[0m\u001b[0;34m\u001b[0m\u001b[0m\n\u001b[0;32m-> 2895\u001b[0;31m                 \u001b[0;32mreturn\u001b[0m \u001b[0mself\u001b[0m\u001b[0;34m.\u001b[0m\u001b[0m_engine\u001b[0m\u001b[0;34m.\u001b[0m\u001b[0mget_loc\u001b[0m\u001b[0;34m(\u001b[0m\u001b[0mcasted_key\u001b[0m\u001b[0;34m)\u001b[0m\u001b[0;34m\u001b[0m\u001b[0;34m\u001b[0m\u001b[0m\n\u001b[0m\u001b[1;32m   2896\u001b[0m             \u001b[0;32mexcept\u001b[0m \u001b[0mKeyError\u001b[0m \u001b[0;32mas\u001b[0m \u001b[0merr\u001b[0m\u001b[0;34m:\u001b[0m\u001b[0;34m\u001b[0m\u001b[0;34m\u001b[0m\u001b[0m\n",
      "\u001b[0;32mpandas/_libs/index.pyx\u001b[0m in \u001b[0;36mpandas._libs.index.IndexEngine.get_loc\u001b[0;34m()\u001b[0m\n",
      "\u001b[0;32mpandas/_libs/index.pyx\u001b[0m in \u001b[0;36mpandas._libs.index.IndexEngine.get_loc\u001b[0;34m()\u001b[0m\n",
      "\u001b[0;32mpandas/_libs/hashtable_class_helper.pxi\u001b[0m in \u001b[0;36mpandas._libs.hashtable.PyObjectHashTable.get_item\u001b[0;34m()\u001b[0m\n",
      "\u001b[0;32mpandas/_libs/hashtable_class_helper.pxi\u001b[0m in \u001b[0;36mpandas._libs.hashtable.PyObjectHashTable.get_item\u001b[0;34m()\u001b[0m\n",
      "\u001b[0;31mKeyError\u001b[0m: 'total day minutes'",
      "\nThe above exception was the direct cause of the following exception:\n",
      "\u001b[0;31mKeyError\u001b[0m                                  Traceback (most recent call last)",
      "\u001b[0;32m<ipython-input-50-60417c04b08d>\u001b[0m in \u001b[0;36m<module>\u001b[0;34m\u001b[0m\n\u001b[0;32m----> 1\u001b[0;31m \u001b[0mpriority1\u001b[0m\u001b[0;34m[\u001b[0m\u001b[0;34m'total day minutes'\u001b[0m\u001b[0;34m]\u001b[0m\u001b[0;34m.\u001b[0m\u001b[0mplot\u001b[0m\u001b[0;34m(\u001b[0m\u001b[0mkind\u001b[0m\u001b[0;34m=\u001b[0m\u001b[0;34m'hist'\u001b[0m\u001b[0;34m)\u001b[0m\u001b[0;34m;\u001b[0m\u001b[0;34m\u001b[0m\u001b[0;34m\u001b[0m\u001b[0m\n\u001b[0m",
      "\u001b[0;32m/opt/anaconda3/envs/learn-env/lib/python3.8/site-packages/pandas/core/frame.py\u001b[0m in \u001b[0;36m__getitem__\u001b[0;34m(self, key)\u001b[0m\n\u001b[1;32m   2900\u001b[0m             \u001b[0;32mif\u001b[0m \u001b[0mself\u001b[0m\u001b[0;34m.\u001b[0m\u001b[0mcolumns\u001b[0m\u001b[0;34m.\u001b[0m\u001b[0mnlevels\u001b[0m \u001b[0;34m>\u001b[0m \u001b[0;36m1\u001b[0m\u001b[0;34m:\u001b[0m\u001b[0;34m\u001b[0m\u001b[0;34m\u001b[0m\u001b[0m\n\u001b[1;32m   2901\u001b[0m                 \u001b[0;32mreturn\u001b[0m \u001b[0mself\u001b[0m\u001b[0;34m.\u001b[0m\u001b[0m_getitem_multilevel\u001b[0m\u001b[0;34m(\u001b[0m\u001b[0mkey\u001b[0m\u001b[0;34m)\u001b[0m\u001b[0;34m\u001b[0m\u001b[0;34m\u001b[0m\u001b[0m\n\u001b[0;32m-> 2902\u001b[0;31m             \u001b[0mindexer\u001b[0m \u001b[0;34m=\u001b[0m \u001b[0mself\u001b[0m\u001b[0;34m.\u001b[0m\u001b[0mcolumns\u001b[0m\u001b[0;34m.\u001b[0m\u001b[0mget_loc\u001b[0m\u001b[0;34m(\u001b[0m\u001b[0mkey\u001b[0m\u001b[0;34m)\u001b[0m\u001b[0;34m\u001b[0m\u001b[0;34m\u001b[0m\u001b[0m\n\u001b[0m\u001b[1;32m   2903\u001b[0m             \u001b[0;32mif\u001b[0m \u001b[0mis_integer\u001b[0m\u001b[0;34m(\u001b[0m\u001b[0mindexer\u001b[0m\u001b[0;34m)\u001b[0m\u001b[0;34m:\u001b[0m\u001b[0;34m\u001b[0m\u001b[0;34m\u001b[0m\u001b[0m\n\u001b[1;32m   2904\u001b[0m                 \u001b[0mindexer\u001b[0m \u001b[0;34m=\u001b[0m \u001b[0;34m[\u001b[0m\u001b[0mindexer\u001b[0m\u001b[0;34m]\u001b[0m\u001b[0;34m\u001b[0m\u001b[0;34m\u001b[0m\u001b[0m\n",
      "\u001b[0;32m/opt/anaconda3/envs/learn-env/lib/python3.8/site-packages/pandas/core/indexes/base.py\u001b[0m in \u001b[0;36mget_loc\u001b[0;34m(self, key, method, tolerance)\u001b[0m\n\u001b[1;32m   2895\u001b[0m                 \u001b[0;32mreturn\u001b[0m \u001b[0mself\u001b[0m\u001b[0;34m.\u001b[0m\u001b[0m_engine\u001b[0m\u001b[0;34m.\u001b[0m\u001b[0mget_loc\u001b[0m\u001b[0;34m(\u001b[0m\u001b[0mcasted_key\u001b[0m\u001b[0;34m)\u001b[0m\u001b[0;34m\u001b[0m\u001b[0;34m\u001b[0m\u001b[0m\n\u001b[1;32m   2896\u001b[0m             \u001b[0;32mexcept\u001b[0m \u001b[0mKeyError\u001b[0m \u001b[0;32mas\u001b[0m \u001b[0merr\u001b[0m\u001b[0;34m:\u001b[0m\u001b[0;34m\u001b[0m\u001b[0;34m\u001b[0m\u001b[0m\n\u001b[0;32m-> 2897\u001b[0;31m                 \u001b[0;32mraise\u001b[0m \u001b[0mKeyError\u001b[0m\u001b[0;34m(\u001b[0m\u001b[0mkey\u001b[0m\u001b[0;34m)\u001b[0m \u001b[0;32mfrom\u001b[0m \u001b[0merr\u001b[0m\u001b[0;34m\u001b[0m\u001b[0;34m\u001b[0m\u001b[0m\n\u001b[0m\u001b[1;32m   2898\u001b[0m \u001b[0;34m\u001b[0m\u001b[0m\n\u001b[1;32m   2899\u001b[0m         \u001b[0;32mif\u001b[0m \u001b[0mtolerance\u001b[0m \u001b[0;32mis\u001b[0m \u001b[0;32mnot\u001b[0m \u001b[0;32mNone\u001b[0m\u001b[0;34m:\u001b[0m\u001b[0;34m\u001b[0m\u001b[0;34m\u001b[0m\u001b[0m\n",
      "\u001b[0;31mKeyError\u001b[0m: 'total day minutes'"
     ]
    }
   ],
   "source": [
    "priority1['total day minutes'].plot(kind='hist');"
   ]
  },
  {
   "cell_type": "code",
   "execution_count": 52,
   "metadata": {},
   "outputs": [
    {
     "data": {
      "text/plain": [
       "count    84.000000\n",
       "mean     35.985595\n",
       "std       9.561428\n",
       "min      12.040000\n",
       "25%      28.552500\n",
       "50%      36.685000\n",
       "75%      41.785000\n",
       "max      57.040000\n",
       "Name: total day charge, dtype: float64"
      ]
     },
     "execution_count": 52,
     "metadata": {},
     "output_type": "execute_result"
    }
   ],
   "source": [
    "priority1['total day charge'].describe()"
   ]
  },
  {
   "cell_type": "code",
   "execution_count": 54,
   "metadata": {},
   "outputs": [
    {
     "data": {
      "image/png": "[encoded data removed]",
      "text/plain": [
       "<Figure size 432x288 with 1 Axes>"
      ]
     },
     "metadata": {},
     "output_type": "display_data"
    }
   ],
   "source": [
    "sns.distplot(priority1['total day charge']);"
   ]
  },
  {
   "cell_type": "code",
   "execution_count": 55,
   "metadata": {},
   "outputs": [
    {
     "data": {
      "text/plain": [
       "0    43\n",
       "1    41\n",
       "Name: international plan, dtype: int64"
      ]
     },
     "execution_count": 55,
     "metadata": {},
     "output_type": "execute_result"
    }
   ],
   "source": [
    "priority1['international plan'].value_counts()"
   ]
  },
  {
   "cell_type": "code",
   "execution_count": 56,
   "metadata": {},
   "outputs": [
    {
     "data": {
      "text/plain": [
       "0     66\n",
       "21     2\n",
       "36     2\n",
       "31     1\n",
       "20     1\n",
       "23     1\n",
       "24     1\n",
       "28     1\n",
       "29     1\n",
       "41     1\n",
       "40     1\n",
       "33     1\n",
       "35     1\n",
       "37     1\n",
       "38     1\n",
       "39     1\n",
       "32     1\n",
       "Name: number vmail messages, dtype: int64"
      ]
     },
     "execution_count": 56,
     "metadata": {},
     "output_type": "execute_result"
    }
   ],
   "source": [
    "priority1['number vmail messages'].value_counts()"
   ]
  },
  {
   "cell_type": "code",
   "execution_count": 57,
   "metadata": {},
   "outputs": [
    {
     "data": {
      "text/plain": [
       "0    66\n",
       "1    18\n",
       "Name: voice mail plan, dtype: int64"
      ]
     },
     "execution_count": 57,
     "metadata": {},
     "output_type": "execute_result"
    }
   ],
   "source": [
    "priority1['voice mail plan'].value_counts()"
   ]
  },
  {
   "cell_type": "code",
   "execution_count": 58,
   "metadata": {},
   "outputs": [
    {
     "data": {
      "image/png": "[encoded data removed]",
      "text/plain": [
       "<Figure size 432x288 with 1 Axes>"
      ]
     },
     "metadata": {},
     "output_type": "display_data"
    }
   ],
   "source": [
    "priority1['total eve charge'].plot(kind='hist');"
   ]
  },
  {
   "cell_type": "code",
   "execution_count": 59,
   "metadata": {},
   "outputs": [
    {
     "data": {
      "text/plain": [
       "count    84.000000\n",
       "mean     17.178571\n",
       "std       4.569781\n",
       "min       5.170000\n",
       "25%      14.595000\n",
       "50%      17.740000\n",
       "75%      19.355000\n",
       "max      30.910000\n",
       "Name: total eve charge, dtype: float64"
      ]
     },
     "execution_count": 59,
     "metadata": {},
     "output_type": "execute_result"
    }
   ],
   "source": [
    "priority1['total eve charge'].describe()"
   ]
  },
  {
   "cell_type": "code",
   "execution_count": 60,
   "metadata": {},
   "outputs": [
    {
     "data": {
      "text/plain": [
       "0    43\n",
       "1    41\n",
       "Name: international plan, dtype: int64"
      ]
     },
     "execution_count": 60,
     "metadata": {},
     "output_type": "execute_result"
    }
   ],
   "source": [
    "priority1['international plan'].value_counts()"
   ]
  },
  {
   "cell_type": "code",
   "execution_count": 61,
   "metadata": {},
   "outputs": [
    {
     "data": {
      "text/plain": [
       "count    84.000000\n",
       "mean      2.885357\n",
       "std       0.714594\n",
       "min       1.430000\n",
       "25%       2.365000\n",
       "50%       2.825000\n",
       "75%       3.327500\n",
       "max       4.560000\n",
       "Name: total intl charge, dtype: float64"
      ]
     },
     "execution_count": 61,
     "metadata": {},
     "output_type": "execute_result"
    }
   ],
   "source": [
    "priority1['total intl charge'].describe()"
   ]
  },
  {
   "cell_type": "markdown",
   "metadata": {},
   "source": [
    "# On Average, Priority 1 Customers:\n",
    "\n",
    "- `customer service calls`: call customer service between 2 and 5 times\n",
    "- `total day minutes`: Have spoken on the phone during daytime hours between 200 and 275 minutes\n",
    "- `international plan`: Are likely to have an international plan\n",
    "- `total eve charge`: Have spent 15 - 18 dollars on evening phone calls\n",
    "- `number vmail messages`: Likely don't have a voicemail plan or do not use it at all"
   ]
  },
  {
   "cell_type": "code",
   "execution_count": 62,
   "metadata": {},
   "outputs": [
    {
     "data": {
      "image/png": "[encoded data removed]",
      "text/plain": [
       "<Figure size 864x720 with 1 Axes>"
      ]
     },
     "metadata": {},
     "output_type": "display_data"
    }
   ],
   "source": [
    "import textwrap\n",
    "\n",
    "fig, ax = plt.subplots(figsize = (12 , 10))\n",
    "\n",
    "fig = sns.barplot(data = odds_chart.head(),\n",
    "                  x = 'index',\n",
    "                  y = 'coef',\n",
    "                  color = 'royalblue',\n",
    "                  alpha=0.95)\n",
    "\n",
    "#plt.xlabel('Number of Customer Service Calls', size=20)\n",
    "labels = [textwrap.fill(label.get_text(), 15) for label in ax.get_xticklabels()]\n",
    "ax.set_xticklabels(labels);\n",
    "plt.xticks(fontsize=20)\n",
    "plt.ylabel('Likelihood of Churning for Each Unit Increase', size=22)\n",
    "plt.yticks(fontsize=20)\n",
    "#plt.title('Top 5 Factors in Customer Churn', size=20)\n",
    "plt.show(fig);"
   ]
  },
  {
   "cell_type": "markdown",
   "metadata": {},
   "source": [
    "# CONCLUSION\n",
    "\n",
    "## FINAL MODEL RESULTS\n",
    "\n",
    "The following are the variables that most predict churn in this data set:\n",
    "- `customer service calls`\n",
    "- `total day charge`\n",
    "- `international plan`\n",
    "- `number of vmail messages`\n",
    "-`total eve minutes`\n",
    "\n",
    "\n",
    "So, as variable **customer service calls** increases by one unit, the odds that the customers represented in the observation are in the target class (“1”) are over 2.6x as large as the odds that they won’t be in the target class."
   ]
  }
 ],
 "metadata": {
  "celltoolbar": "Create Assignment",
  "kernelspec": {
   "display_name": "Python (learn-env)",
   "language": "python",
   "name": "learn-env"
  },
  "language_info": {
   "codemirror_mode": {
    "name": "ipython",
    "version": 3
   },
   "file_extension": ".py",
   "mimetype": "text/x-python",
   "name": "python",
   "nbconvert_exporter": "python",
   "pygments_lexer": "ipython3",
   "version": "3.8.5"
  },
  "toc": {
   "base_numbering": 1,
   "nav_menu": {},
   "number_sections": true,
   "sideBar": true,
   "skip_h1_title": false,
   "title_cell": "Table of Contents",
   "title_sidebar": "Contents",
   "toc_cell": false,
   "toc_position": {},
   "toc_section_display": true,
   "toc_window_display": false
  }
 },
 "nbformat": 4,
 "nbformat_minor": 4
}
